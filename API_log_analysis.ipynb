{
 "cells": [
  {
   "cell_type": "markdown",
   "metadata": {
    "extensions": {
     "jupyter_dashboards": {
      "version": 1,
      "views": {
       "grid_default": {
        "col": 0,
        "height": 4,
        "hidden": true,
        "row": 11,
        "width": 4
       },
       "report_default": {
        "hidden": true
       }
      }
     }
    }
   },
   "source": [
    "Experiment working with anonymized API log data."
   ]
  },
  {
   "cell_type": "code",
   "execution_count": 3,
   "metadata": {
    "extensions": {
     "jupyter_dashboards": {
      "version": 1,
      "views": {
       "grid_default": {
        "col": 4,
        "height": 4,
        "hidden": true,
        "row": 0,
        "width": 4
       },
       "report_default": {
        "hidden": true
       }
      }
     }
    }
   },
   "outputs": [
    {
     "ename": "ModuleNotFoundError",
     "evalue": "No module named 'pandas'",
     "output_type": "error",
     "traceback": [
      "\u001b[0;31m---------------------------------------------------------------------------\u001b[0m",
      "\u001b[0;31mModuleNotFoundError\u001b[0m                       Traceback (most recent call last)",
      "\u001b[0;32m<ipython-input-3-891bd6a6c7ba>\u001b[0m in \u001b[0;36m<module>\u001b[0;34m()\u001b[0m\n\u001b[0;32m----> 1\u001b[0;31m \u001b[0;32mimport\u001b[0m \u001b[0mpandas\u001b[0m \u001b[0;32mas\u001b[0m \u001b[0mpd\u001b[0m\u001b[0;34m\u001b[0m\u001b[0m\n\u001b[0m\u001b[1;32m      2\u001b[0m \u001b[0mget_ipython\u001b[0m\u001b[0;34m(\u001b[0m\u001b[0;34m)\u001b[0m\u001b[0;34m.\u001b[0m\u001b[0mmagic\u001b[0m\u001b[0;34m(\u001b[0m\u001b[0;34m'matplotlib inline'\u001b[0m\u001b[0;34m)\u001b[0m\u001b[0;34m\u001b[0m\u001b[0m\n\u001b[1;32m      3\u001b[0m \u001b[0;34m\u001b[0m\u001b[0m\n\u001b[1;32m      4\u001b[0m \u001b[0;32mfrom\u001b[0m \u001b[0mbokeh\u001b[0m\u001b[0;34m.\u001b[0m\u001b[0mio\u001b[0m \u001b[0;32mimport\u001b[0m \u001b[0moutput_notebook\u001b[0m\u001b[0;34m\u001b[0m\u001b[0m\n\u001b[1;32m      5\u001b[0m \u001b[0;32mfrom\u001b[0m \u001b[0mbokeh\u001b[0m\u001b[0;34m.\u001b[0m\u001b[0mplotting\u001b[0m \u001b[0;32mimport\u001b[0m \u001b[0mfigure\u001b[0m\u001b[0;34m,\u001b[0m \u001b[0mshow\u001b[0m\u001b[0;34m\u001b[0m\u001b[0m\n",
      "\u001b[0;31mModuleNotFoundError\u001b[0m: No module named 'pandas'"
     ]
    }
   ],
   "source": [
    "import pandas as pd\n",
    "%matplotlib inline\n",
    "\n",
    "from bokeh.io import output_notebook\n",
    "from bokeh.plotting import figure, show\n",
    "\n",
    "output_notebook()"
   ]
  },
  {
   "cell_type": "code",
   "execution_count": 43,
   "metadata": {
    "extensions": {
     "jupyter_dashboards": {
      "version": 1,
      "views": {
       "grid_default": {
        "col": 8,
        "height": 5,
        "hidden": true,
        "row": 0,
        "width": 4
       },
       "report_default": {
        "hidden": true
       }
      }
     }
    }
   },
   "outputs": [
    {
     "data": {
      "text/plain": [
       "Index(['Method', 'Country', 'State', 'City', 'Status', 'Reason Denied',\n",
       "       'Response Time', 'Content Type', 'Accept Encoding', 'User Agent',\n",
       "       'Unnamed: 11', 'Unnamed: 12'],\n",
       "      dtype='object')"
      ]
     },
     "execution_count": 43,
     "metadata": {},
     "output_type": "execute_result"
    }
   ],
   "source": [
    "# Import API logs data\n",
    "api_logs = pd.read_csv('api_logs.csv', index_col=0, parse_dates=[0])\n",
    "\n",
    "# Take a look at the columns available\n",
    "api_logs.columns"
   ]
  },
  {
   "cell_type": "code",
   "execution_count": 44,
   "metadata": {
    "extensions": {
     "jupyter_dashboards": {
      "version": 1,
      "views": {
       "grid_default": {
        "col": 0,
        "height": 14,
        "hidden": true,
        "row": 11,
        "width": 4
       },
       "report_default": {
        "hidden": true
       }
      }
     }
    }
   },
   "outputs": [
    {
     "name": "stdout",
     "output_type": "stream",
     "text": [
      "DatetimeIndex(['2017-04-25 11:43:48', '2017-04-25 11:43:48',\n",
      "               '2017-04-25 11:43:48', '2017-04-25 11:45:34',\n",
      "               '2017-04-25 11:47:39', '2017-04-25 11:46:01',\n",
      "               '2017-04-25 11:47:20', '2017-04-25 11:46:10',\n",
      "               '2017-04-25 11:46:17', '2017-04-25 11:44:46',\n",
      "               ...\n",
      "               '2017-05-31 07:50:32', '2017-05-31 07:52:05',\n",
      "               '2017-05-31 08:23:18', '2017-05-31 09:55:25',\n",
      "               '2017-05-31 09:53:51', '2017-05-31 09:55:31',\n",
      "               '2017-05-31 10:05:42', '2017-05-31 10:05:50',\n",
      "               '2017-05-31 10:05:50', '2017-05-31 10:09:36'],\n",
      "              dtype='datetime64[ns]', name='Time', length=2912, freq=None)\n"
     ]
    }
   ],
   "source": [
    "# Make sure DataFrame has DatetimeIndex\n",
    "print(api_logs.index)"
   ]
  },
  {
   "cell_type": "code",
   "execution_count": 45,
   "metadata": {
    "extensions": {
     "jupyter_dashboards": {
      "version": 1,
      "views": {
       "grid_default": {
        "col": 0,
        "height": 17,
        "hidden": false,
        "row": 21,
        "width": 12
       },
       "report_default": {
        "hidden": true
       }
      }
     }
    }
   },
   "outputs": [
    {
     "data": {
      "text/html": [
       "<div>\n",
       "<style>\n",
       "    .dataframe thead tr:only-child th {\n",
       "        text-align: right;\n",
       "    }\n",
       "\n",
       "    .dataframe thead th {\n",
       "        text-align: left;\n",
       "    }\n",
       "\n",
       "    .dataframe tbody tr th {\n",
       "        vertical-align: top;\n",
       "    }\n",
       "</style>\n",
       "<table border=\"1\" class=\"dataframe\">\n",
       "  <thead>\n",
       "    <tr style=\"text-align: right;\">\n",
       "      <th></th>\n",
       "      <th>Method</th>\n",
       "      <th>Country</th>\n",
       "      <th>State</th>\n",
       "      <th>City</th>\n",
       "      <th>Status</th>\n",
       "      <th>Reason Denied</th>\n",
       "      <th>Response Time</th>\n",
       "      <th>Content Type</th>\n",
       "      <th>Accept Encoding</th>\n",
       "      <th>User Agent</th>\n",
       "      <th>Unnamed: 11</th>\n",
       "      <th>Unnamed: 12</th>\n",
       "      <th>Outcome</th>\n",
       "    </tr>\n",
       "    <tr>\n",
       "      <th>Time</th>\n",
       "      <th></th>\n",
       "      <th></th>\n",
       "      <th></th>\n",
       "      <th></th>\n",
       "      <th></th>\n",
       "      <th></th>\n",
       "      <th></th>\n",
       "      <th></th>\n",
       "      <th></th>\n",
       "      <th></th>\n",
       "      <th></th>\n",
       "      <th></th>\n",
       "      <th></th>\n",
       "    </tr>\n",
       "  </thead>\n",
       "  <tbody>\n",
       "    <tr>\n",
       "      <th>2017-04-25 11:43:48</th>\n",
       "      <td>GET</td>\n",
       "      <td>RU</td>\n",
       "      <td>38</td>\n",
       "      <td>Krasnodar</td>\n",
       "      <td>200</td>\n",
       "      <td>NaN</td>\n",
       "      <td>305</td>\n",
       "      <td>application/json; charset=utf-8</td>\n",
       "      <td>gzip, deflate, sdch, br</td>\n",
       "      <td>Mozilla/5.0 (Macintosh; Intel Mac OS X 10_12_4...</td>\n",
       "      <td>Chrome</td>\n",
       "      <td>Browser</td>\n",
       "      <td>Success</td>\n",
       "    </tr>\n",
       "    <tr>\n",
       "      <th>2017-04-25 11:43:48</th>\n",
       "      <td>GET</td>\n",
       "      <td>RU</td>\n",
       "      <td>38</td>\n",
       "      <td>Krasnodar</td>\n",
       "      <td>200</td>\n",
       "      <td>NaN</td>\n",
       "      <td>383</td>\n",
       "      <td>application/json; charset=utf-8</td>\n",
       "      <td>gzip, deflate, sdch, br</td>\n",
       "      <td>Mozilla/5.0 (Macintosh; Intel Mac OS X 10_12_4...</td>\n",
       "      <td>Chrome</td>\n",
       "      <td>Browser</td>\n",
       "      <td>Success</td>\n",
       "    </tr>\n",
       "    <tr>\n",
       "      <th>2017-04-25 11:43:48</th>\n",
       "      <td>GET</td>\n",
       "      <td>RU</td>\n",
       "      <td>38</td>\n",
       "      <td>Krasnodar</td>\n",
       "      <td>200</td>\n",
       "      <td>NaN</td>\n",
       "      <td>25</td>\n",
       "      <td>application/json; charset=utf-8</td>\n",
       "      <td>gzip, deflate, sdch, br</td>\n",
       "      <td>Mozilla/5.0 (Macintosh; Intel Mac OS X 10_12_4...</td>\n",
       "      <td>Chrome</td>\n",
       "      <td>Browser</td>\n",
       "      <td>Success</td>\n",
       "    </tr>\n",
       "    <tr>\n",
       "      <th>2017-04-25 11:45:34</th>\n",
       "      <td>GET</td>\n",
       "      <td>RU</td>\n",
       "      <td>38</td>\n",
       "      <td>Krasnodar</td>\n",
       "      <td>200</td>\n",
       "      <td>NaN</td>\n",
       "      <td>67</td>\n",
       "      <td>application/json; charset=utf-8</td>\n",
       "      <td>gzip, deflate, sdch, br</td>\n",
       "      <td>Mozilla/5.0 (Macintosh; Intel Mac OS X 10_12_4...</td>\n",
       "      <td>Chrome</td>\n",
       "      <td>Browser</td>\n",
       "      <td>Success</td>\n",
       "    </tr>\n",
       "    <tr>\n",
       "      <th>2017-04-25 11:47:39</th>\n",
       "      <td>GET</td>\n",
       "      <td>RU</td>\n",
       "      <td>38</td>\n",
       "      <td>Krasnodar</td>\n",
       "      <td>200</td>\n",
       "      <td>NaN</td>\n",
       "      <td>45</td>\n",
       "      <td>application/json; charset=utf-8</td>\n",
       "      <td>gzip, deflate, sdch, br</td>\n",
       "      <td>Mozilla/5.0 (Macintosh; Intel Mac OS X 10_12_4...</td>\n",
       "      <td>Chrome</td>\n",
       "      <td>Browser</td>\n",
       "      <td>Success</td>\n",
       "    </tr>\n",
       "  </tbody>\n",
       "</table>\n",
       "</div>"
      ],
      "text/plain": [
       "                    Method Country State       City  Status  Reason Denied  \\\n",
       "Time                                                                         \n",
       "2017-04-25 11:43:48    GET      RU    38  Krasnodar     200            NaN   \n",
       "2017-04-25 11:43:48    GET      RU    38  Krasnodar     200            NaN   \n",
       "2017-04-25 11:43:48    GET      RU    38  Krasnodar     200            NaN   \n",
       "2017-04-25 11:45:34    GET      RU    38  Krasnodar     200            NaN   \n",
       "2017-04-25 11:47:39    GET      RU    38  Krasnodar     200            NaN   \n",
       "\n",
       "                     Response Time                     Content Type  \\\n",
       "Time                                                                  \n",
       "2017-04-25 11:43:48            305  application/json; charset=utf-8   \n",
       "2017-04-25 11:43:48            383  application/json; charset=utf-8   \n",
       "2017-04-25 11:43:48             25  application/json; charset=utf-8   \n",
       "2017-04-25 11:45:34             67  application/json; charset=utf-8   \n",
       "2017-04-25 11:47:39             45  application/json; charset=utf-8   \n",
       "\n",
       "                             Accept Encoding  \\\n",
       "Time                                           \n",
       "2017-04-25 11:43:48  gzip, deflate, sdch, br   \n",
       "2017-04-25 11:43:48  gzip, deflate, sdch, br   \n",
       "2017-04-25 11:43:48  gzip, deflate, sdch, br   \n",
       "2017-04-25 11:45:34  gzip, deflate, sdch, br   \n",
       "2017-04-25 11:47:39  gzip, deflate, sdch, br   \n",
       "\n",
       "                                                            User Agent  \\\n",
       "Time                                                                     \n",
       "2017-04-25 11:43:48  Mozilla/5.0 (Macintosh; Intel Mac OS X 10_12_4...   \n",
       "2017-04-25 11:43:48  Mozilla/5.0 (Macintosh; Intel Mac OS X 10_12_4...   \n",
       "2017-04-25 11:43:48  Mozilla/5.0 (Macintosh; Intel Mac OS X 10_12_4...   \n",
       "2017-04-25 11:45:34  Mozilla/5.0 (Macintosh; Intel Mac OS X 10_12_4...   \n",
       "2017-04-25 11:47:39  Mozilla/5.0 (Macintosh; Intel Mac OS X 10_12_4...   \n",
       "\n",
       "                    Unnamed: 11 Unnamed: 12  Outcome  \n",
       "Time                                                  \n",
       "2017-04-25 11:43:48      Chrome     Browser  Success  \n",
       "2017-04-25 11:43:48      Chrome     Browser  Success  \n",
       "2017-04-25 11:43:48      Chrome     Browser  Success  \n",
       "2017-04-25 11:45:34      Chrome     Browser  Success  \n",
       "2017-04-25 11:47:39      Chrome     Browser  Success  "
      ]
     },
     "execution_count": 45,
     "metadata": {},
     "output_type": "execute_result"
    }
   ],
   "source": [
    "def is_success_function(row):\n",
    "    \"\"\"\n",
    "    Check if row (request) was successful\n",
    "    Successful means a response with 2xx status\n",
    "    \n",
    "    return True if successful False otherwise\n",
    "    \"\"\"\n",
    "    success = (row['Status'] >= 200 and row['Status'] < 300)\n",
    "    \n",
    "    if success:\n",
    "        return 'Success'\n",
    "    else:\n",
    "        return 'Failure'\n",
    "    \n",
    "# Add 'Success' column to API Logs\n",
    "# Success is determined by status code, where any status in the 200s is considered successful\n",
    "api_logs['Outcome'] = api_logs.apply(is_success_function , axis='columns')\n",
    "api_logs.head()"
   ]
  },
  {
   "cell_type": "code",
   "execution_count": 46,
   "metadata": {
    "collapsed": true,
    "extensions": {
     "jupyter_dashboards": {
      "version": 1,
      "views": {
       "grid_default": {
        "hidden": true
       },
       "report_default": {
        "hidden": true
       }
      }
     }
    }
   },
   "outputs": [],
   "source": [
    "# Export CSV containing Outcome column\n",
    "api_logs.to_csv('api_logs_with_outcome.csv')"
   ]
  },
  {
   "cell_type": "markdown",
   "metadata": {
    "extensions": {
     "jupyter_dashboards": {
      "version": 1,
      "views": {
       "grid_default": {
        "col": 4,
        "height": 4,
        "hidden": true,
        "row": 4,
        "width": 4
       },
       "report_default": {
        "hidden": true
       }
      }
     }
    }
   },
   "source": [
    "# Explore\n",
    "Get a feel for the data."
   ]
  },
  {
   "cell_type": "code",
   "execution_count": 1,
   "metadata": {
    "extensions": {
     "jupyter_dashboards": {
      "version": 1,
      "views": {
       "grid_default": {
        "col": 0,
        "height": 11,
        "hidden": false,
        "row": 10,
        "width": 4
       },
       "report_default": {
        "hidden": false
       }
      }
     }
    }
   },
   "outputs": [
    {
     "ename": "NameError",
     "evalue": "name 'api_logs' is not defined",
     "output_type": "error",
     "traceback": [
      "\u001b[0;31m---------------------------------------------------------------------------\u001b[0m",
      "\u001b[0;31mNameError\u001b[0m                                 Traceback (most recent call last)",
      "\u001b[0;32m<ipython-input-1-30d152d175f9>\u001b[0m in \u001b[0;36m<module>\u001b[0;34m()\u001b[0m\n\u001b[1;32m      1\u001b[0m \u001b[0;31m# Check the distribution of statuses in the data\u001b[0m\u001b[0;34m\u001b[0m\u001b[0;34m\u001b[0m\u001b[0m\n\u001b[0;32m----> 2\u001b[0;31m \u001b[0mapi_response_code_distributions_plot\u001b[0m \u001b[0;34m=\u001b[0m \u001b[0mapi_logs\u001b[0m\u001b[0;34m[\u001b[0m\u001b[0;34m'Status'\u001b[0m\u001b[0;34m]\u001b[0m\u001b[0;34m.\u001b[0m\u001b[0mvalue_counts\u001b[0m\u001b[0;34m(\u001b[0m\u001b[0;34m)\u001b[0m\u001b[0;34m.\u001b[0m\u001b[0mplot\u001b[0m\u001b[0;34m(\u001b[0m\u001b[0;34m'bar'\u001b[0m\u001b[0;34m,\u001b[0m \u001b[0mtitle\u001b[0m\u001b[0;34m=\u001b[0m\u001b[0;34m'Response code counts'\u001b[0m\u001b[0;34m)\u001b[0m\u001b[0;34m\u001b[0m\u001b[0m\n\u001b[0m",
      "\u001b[0;31mNameError\u001b[0m: name 'api_logs' is not defined"
     ]
    }
   ],
   "source": [
    "# Check the distribution of statuses in the data\n",
    "api_response_code_distributions_plot = api_logs['Status'].value_counts().plot('bar', title='Response code counts')"
   ]
  },
  {
   "cell_type": "code",
   "execution_count": 2,
   "metadata": {
    "extensions": {
     "jupyter_dashboards": {
      "version": 1,
      "views": {
       "grid_default": {
        "col": 8,
        "height": 11,
        "hidden": false,
        "row": 10,
        "width": 4
       },
       "report_default": {
        "hidden": false
       }
      }
     }
    }
   },
   "outputs": [
    {
     "ename": "NameError",
     "evalue": "name 'api_logs' is not defined",
     "output_type": "error",
     "traceback": [
      "\u001b[0;31m---------------------------------------------------------------------------\u001b[0m",
      "\u001b[0;31mNameError\u001b[0m                                 Traceback (most recent call last)",
      "\u001b[0;32m<ipython-input-2-5562e4e7e293>\u001b[0m in \u001b[0;36m<module>\u001b[0;34m()\u001b[0m\n\u001b[1;32m      1\u001b[0m \u001b[0;31m# Compare number of successful versus unsuccessful requests\u001b[0m\u001b[0;34m\u001b[0m\u001b[0;34m\u001b[0m\u001b[0m\n\u001b[0;32m----> 2\u001b[0;31m \u001b[0msuccess_versus_failure\u001b[0m \u001b[0;34m=\u001b[0m \u001b[0mapi_logs\u001b[0m\u001b[0;34m.\u001b[0m\u001b[0mgroupby\u001b[0m\u001b[0;34m(\u001b[0m\u001b[0;34m'Outcome'\u001b[0m\u001b[0;34m)\u001b[0m\u001b[0;34m.\u001b[0m\u001b[0msize\u001b[0m\u001b[0;34m(\u001b[0m\u001b[0;34m)\u001b[0m\u001b[0;34m.\u001b[0m\u001b[0mplot\u001b[0m\u001b[0;34m(\u001b[0m\u001b[0;34m'bar'\u001b[0m\u001b[0;34m,\u001b[0m \u001b[0mtitle\u001b[0m\u001b[0;34m=\u001b[0m\u001b[0;34m'Successful versus unsuccessful requests'\u001b[0m\u001b[0;34m)\u001b[0m\u001b[0;34m\u001b[0m\u001b[0m\n\u001b[0m",
      "\u001b[0;31mNameError\u001b[0m: name 'api_logs' is not defined"
     ]
    }
   ],
   "source": [
    "# Compare number of successful versus unsuccessful requests\n",
    "success_versus_failure = api_logs.groupby('Outcome').size().plot('bar', title='Successful versus unsuccessful requests')"
   ]
  },
  {
   "cell_type": "code",
   "execution_count": 49,
   "metadata": {
    "extensions": {
     "jupyter_dashboards": {
      "version": 1,
      "views": {
       "grid_default": {
        "col": 4,
        "height": 5,
        "hidden": true,
        "row": 4,
        "width": 4
       },
       "report_default": {
        "hidden": true
       }
      }
     }
    }
   },
   "outputs": [
    {
     "data": {
      "text/plain": [
       "            Outcome\n",
       "2017-04-22  Success     7\n",
       "2017-04-24  Failure    32\n",
       "            Success    59\n",
       "2017-04-25  Failure    23\n",
       "            Success    91\n",
       "dtype: int64"
      ]
     },
     "execution_count": 49,
     "metadata": {},
     "output_type": "execute_result"
    }
   ],
   "source": [
    "# Group API logs by date and outcome\n",
    "daily_failure_success_groups = api_logs.groupby([api_logs.index.date, 'Outcome']).size()\n",
    "\n",
    "# Take a look at the grouped data\n",
    "daily_failure_success_groups.head()"
   ]
  },
  {
   "cell_type": "code",
   "execution_count": 50,
   "metadata": {
    "extensions": {
     "jupyter_dashboards": {
      "version": 1,
      "views": {
       "grid_default": {
        "col": 4,
        "height": 7,
        "hidden": true,
        "row": 28,
        "width": 4
       },
       "report_default": {
        "hidden": true
       }
      }
     }
    }
   },
   "outputs": [
    {
     "data": {
      "text/html": [
       "<div>\n",
       "<style>\n",
       "    .dataframe thead tr:only-child th {\n",
       "        text-align: right;\n",
       "    }\n",
       "\n",
       "    .dataframe thead th {\n",
       "        text-align: left;\n",
       "    }\n",
       "\n",
       "    .dataframe tbody tr th {\n",
       "        vertical-align: top;\n",
       "    }\n",
       "</style>\n",
       "<table border=\"1\" class=\"dataframe\">\n",
       "  <thead>\n",
       "    <tr style=\"text-align: right;\">\n",
       "      <th>Outcome</th>\n",
       "      <th>Failure</th>\n",
       "      <th>Success</th>\n",
       "    </tr>\n",
       "  </thead>\n",
       "  <tbody>\n",
       "    <tr>\n",
       "      <th>2017-04-22</th>\n",
       "      <td>0</td>\n",
       "      <td>7</td>\n",
       "    </tr>\n",
       "    <tr>\n",
       "      <th>2017-04-24</th>\n",
       "      <td>32</td>\n",
       "      <td>59</td>\n",
       "    </tr>\n",
       "    <tr>\n",
       "      <th>2017-04-25</th>\n",
       "      <td>23</td>\n",
       "      <td>91</td>\n",
       "    </tr>\n",
       "    <tr>\n",
       "      <th>2017-04-26</th>\n",
       "      <td>1</td>\n",
       "      <td>59</td>\n",
       "    </tr>\n",
       "    <tr>\n",
       "      <th>2017-04-27</th>\n",
       "      <td>3</td>\n",
       "      <td>1</td>\n",
       "    </tr>\n",
       "  </tbody>\n",
       "</table>\n",
       "</div>"
      ],
      "text/plain": [
       "Outcome     Failure  Success\n",
       "2017-04-22        0        7\n",
       "2017-04-24       32       59\n",
       "2017-04-25       23       91\n",
       "2017-04-26        1       59\n",
       "2017-04-27        3        1"
      ]
     },
     "execution_count": 50,
     "metadata": {},
     "output_type": "execute_result"
    }
   ],
   "source": [
    "# Flatten grouped data, so each row has a failure and success column\n",
    "# Replace NaN numbers with zero (fill_value=0)\n",
    "success_and_failure_over_time = daily_failure_success_groups.unstack(fill_value=0)\n",
    "\n",
    "# Take a look at the unstacked data\n",
    "success_and_failure_over_time.head()"
   ]
  },
  {
   "cell_type": "code",
   "execution_count": 51,
   "metadata": {
    "extensions": {
     "jupyter_dashboards": {
      "version": 1,
      "views": {
       "grid_default": {
        "col": 4,
        "height": 10,
        "hidden": false,
        "row": 10,
        "width": 4
       },
       "report_default": {
        "hidden": false
       }
      }
     }
    }
   },
   "outputs": [
    {
     "data": {
      "image/png": "[encoded data removed]",
      "text/plain": [
       "<matplotlib.figure.Figure at 0x7ff131637d68>"
      ]
     },
     "metadata": {},
     "output_type": "display_data"
    }
   ],
   "source": [
    "# Plot success and failure countes over time\n",
    "success_and_failure_chart = success_and_failure_over_time.plot(rot=45)"
   ]
  },
  {
   "cell_type": "code",
   "execution_count": 52,
   "metadata": {
    "extensions": {
     "jupyter_dashboards": {
      "version": 1,
      "views": {
       "grid_default": {
        "col": 0,
        "height": 10,
        "hidden": false,
        "row": 0,
        "width": 12
       },
       "report_default": {
        "hidden": false
       }
      }
     }
    }
   },
   "outputs": [
    {
     "data": {
      "text/html": [
       "\n",
       "\n",
       "    <div class=\"bk-root\">\n",
       "        <div class=\"bk-plotdiv\" id=\"00f4515d-9379-45f8-b140-657e795c4fbf\"></div>\n",
       "    </div>\n",
       "<script type=\"text/javascript\">\n",
       "  \n",
       "  (function(global) {\n",
       "    function now() {\n",
       "      return new Date();\n",
       "    }\n",
       "  \n",
       "    var force = false;\n",
       "  \n",
       "    if (typeof (window._bokeh_onload_callbacks) === \"undefined\" || force === true) {\n",
       "      window._bokeh_onload_callbacks = [];\n",
       "      window._bokeh_is_loading = undefined;\n",
       "    }\n",
       "  \n",
       "  \n",
       "    \n",
       "    if (typeof (window._bokeh_timeout) === \"undefined\" || force === true) {\n",
       "      window._bokeh_timeout = Date.now() + 0;\n",
       "      window._bokeh_failed_load = false;\n",
       "    }\n",
       "  \n",
       "    var NB_LOAD_WARNING = {'data': {'text/html':\n",
       "       \"<div style='background-color: #fdd'>\\n\"+\n",
       "       \"<p>\\n\"+\n",
       "       \"BokehJS does not appear to have successfully loaded. If loading BokehJS from CDN, this \\n\"+\n",
       "       \"may be due to a slow or bad network connection. Possible fixes:\\n\"+\n",
       "       \"</p>\\n\"+\n",
       "       \"<ul>\\n\"+\n",
       "       \"<li>re-rerun `output_notebook()` to attempt to load from CDN again, or</li>\\n\"+\n",
       "       \"<li>use INLINE resources instead, as so:</li>\\n\"+\n",
       "       \"</ul>\\n\"+\n",
       "       \"<code>\\n\"+\n",
       "       \"from bokeh.resources import INLINE\\n\"+\n",
       "       \"output_notebook(resources=INLINE)\\n\"+\n",
       "       \"</code>\\n\"+\n",
       "       \"</div>\"}};\n",
       "  \n",
       "    function display_loaded() {\n",
       "      if (window.Bokeh !== undefined) {\n",
       "        var el = document.getElementById(\"00f4515d-9379-45f8-b140-657e795c4fbf\");\n",
       "        el.textContent = \"BokehJS \" + Bokeh.version + \" successfully loaded.\";\n",
       "      } else if (Date.now() < window._bokeh_timeout) {\n",
       "        setTimeout(display_loaded, 100)\n",
       "      }\n",
       "    }\n",
       "  \n",
       "    function run_callbacks() {\n",
       "      try {\n",
       "        window._bokeh_onload_callbacks.forEach(function(callback) { callback() });\n",
       "      }\n",
       "      finally {\n",
       "        delete window._bokeh_onload_callbacks\n",
       "      }\n",
       "      console.info(\"Bokeh: all callbacks have finished\");\n",
       "    }\n",
       "  \n",
       "    function load_libs(js_urls, callback) {\n",
       "      window._bokeh_onload_callbacks.push(callback);\n",
       "      if (window._bokeh_is_loading > 0) {\n",
       "        console.log(\"Bokeh: BokehJS is being loaded, scheduling callback at\", now());\n",
       "        return null;\n",
       "      }\n",
       "      if (js_urls == null || js_urls.length === 0) {\n",
       "        run_callbacks();\n",
       "        return null;\n",
       "      }\n",
       "      console.log(\"Bokeh: BokehJS not loaded, scheduling load and callback at\", now());\n",
       "      window._bokeh_is_loading = js_urls.length;\n",
       "      for (var i = 0; i < js_urls.length; i++) {\n",
       "        var url = js_urls[i];\n",
       "        var s = document.createElement('script');\n",
       "        s.src = url;\n",
       "        s.async = false;\n",
       "        s.onreadystatechange = s.onload = function() {\n",
       "          window._bokeh_is_loading--;\n",
       "          if (window._bokeh_is_loading === 0) {\n",
       "            console.log(\"Bokeh: all BokehJS libraries loaded\");\n",
       "            run_callbacks()\n",
       "          }\n",
       "        };\n",
       "        s.onerror = function() {\n",
       "          console.warn(\"failed to load library \" + url);\n",
       "        };\n",
       "        console.log(\"Bokeh: injecting script tag for BokehJS library: \", url);\n",
       "        document.getElementsByTagName(\"head\")[0].appendChild(s);\n",
       "      }\n",
       "    };var element = document.getElementById(\"00f4515d-9379-45f8-b140-657e795c4fbf\");\n",
       "    if (element == null) {\n",
       "      console.log(\"Bokeh: ERROR: autoload.js configured with elementid '00f4515d-9379-45f8-b140-657e795c4fbf' but no matching script tag was found. \")\n",
       "      return false;\n",
       "    }\n",
       "  \n",
       "    var js_urls = [];\n",
       "  \n",
       "    var inline_js = [\n",
       "      function(Bokeh) {\n",
       "        (function() {\n",
       "          var fn = function() {\n",
       "            var docs_json = {\"2a59674f-9eb0-4d69-8113-36e98c300aa9\":{\"roots\":{\"references\":[{\"attributes\":{\"below\":[{\"id\":\"e0e82cb4-005f-4a7b-8858-8b069f09b411\",\"type\":\"DatetimeAxis\"}],\"left\":[{\"id\":\"a6ee3467-6264-4086-a4b4-e0d686e71463\",\"type\":\"LinearAxis\"}],\"plot_height\":250,\"plot_width\":800,\"renderers\":[{\"id\":\"e0e82cb4-005f-4a7b-8858-8b069f09b411\",\"type\":\"DatetimeAxis\"},{\"id\":\"6ff1f3cf-c288-41bf-8716-f9a211f708f0\",\"type\":\"Grid\"},{\"id\":\"a6ee3467-6264-4086-a4b4-e0d686e71463\",\"type\":\"LinearAxis\"},{\"id\":\"259e07be-4b8d-438e-ae73-af103458d8b3\",\"type\":\"Grid\"},{\"id\":\"7914a507-5428-49de-885e-e6109ab934a7\",\"type\":\"BoxAnnotation\"},{\"id\":\"e5c90fce-ee91-4789-9319-5ef56c60c211\",\"type\":\"GlyphRenderer\"},{\"id\":\"828e51ae-109b-448c-a62b-3fc999a473b1\",\"type\":\"GlyphRenderer\"}],\"title\":{\"id\":\"29661a27-882f-4b49-8a84-6162b0b8af4e\",\"type\":\"Title\"},\"tool_events\":{\"id\":\"c878d22b-9ec2-4387-8f0f-91ea3c0285ff\",\"type\":\"ToolEvents\"},\"toolbar\":{\"id\":\"c43f0dba-edbd-42cd-9ed3-a0e088bd6764\",\"type\":\"Toolbar\"},\"x_range\":{\"id\":\"01d6ee7f-1b71-46e7-aa75-2f34a8894b8f\",\"type\":\"DataRange1d\"},\"x_scale\":{\"id\":\"8db279bd-b611-4c84-b419-8b451e9037c8\",\"type\":\"LinearScale\"},\"y_range\":{\"id\":\"83aa8b78-7e23-4aaf-958b-6d6f20dc69b1\",\"type\":\"DataRange1d\"},\"y_scale\":{\"id\":\"d8baa60a-98c5-461c-a006-6bcc30f69614\",\"type\":\"LinearScale\"}},\"id\":\"87dc0e55-b5ad-4ee7-a8c0-7f5ad9a77e33\",\"subtype\":\"Figure\",\"type\":\"Plot\"},{\"attributes\":{\"days\":[1,15]},\"id\":\"e3d5365a-d52d-4f38-9e8f-ae92a44fd62e\",\"type\":\"DaysTicker\"},{\"attributes\":{\"base\":60,\"mantissas\":[1,2,5,10,15,20,30],\"max_interval\":1800000.0,\"min_interval\":1000.0,\"num_minor_ticks\":0},\"id\":\"d030c5dc-85e0-4a3a-9162-06393d996e85\",\"type\":\"AdaptiveTicker\"},{\"attributes\":{\"months\":[0,4,8]},\"id\":\"7c91fc99-f14a-40c1-b1b7-6f11b9cf6580\",\"type\":\"MonthsTicker\"},{\"attributes\":{\"callback\":null},\"id\":\"01d6ee7f-1b71-46e7-aa75-2f34a8894b8f\",\"type\":\"DataRange1d\"},{\"attributes\":{},\"id\":\"eb3d2e82-8bd4-4302-ad67-b9e1dd7b79b1\",\"type\":\"BasicTicker\"},{\"attributes\":{\"plot\":{\"id\":\"87dc0e55-b5ad-4ee7-a8c0-7f5ad9a77e33\",\"subtype\":\"Figure\",\"type\":\"Plot\"}},\"id\":\"d64b4e19-08ea-49bb-bef1-bb89c11824c0\",\"type\":\"PanTool\"},{\"attributes\":{\"callback\":null,\"column_names\":[\"x\",\"y\"],\"data\":{\"x\":[1492819200000.0,1492992000000.0,1493078400000.0,1493164800000.0,1493251200000.0,1493337600000.0,1493424000000.0,1493769600000.0,1493856000000.0,1493942400000.0,1494201600000.0,1494288000000.0,1494374400000.0,1494460800000.0,1494547200000.0,1494806400000.0,1494892800000.0,1494979200000.0,1495065600000.0,1495152000000.0,1495238400000.0,1495324800000.0,1495411200000.0,1495497600000.0,1495584000000.0,1495670400000.0,1495756800000.0,1495843200000.0,1495929600000.0,1496016000000.0,1496102400000.0,1496188800000.0,1496275200000.0,1496361600000.0,1496448000000.0,1496620800000.0,1496707200000.0,1496793600000.0,1497052800000.0,1497225600000.0,1497398400000.0,1497484800000.0,1497571200000.0,1497657600000.0,1497744000000.0,1497830400000.0,1497916800000.0,1498003200000.0,1498089600000.0,1498348800000.0,1498435200000.0,1498521600000.0,1498608000000.0,1498694400000.0,1499040000000.0,1499212800000.0,1499299200000.0,1499385600000.0,1499558400000.0,1499644800000.0,1499731200000.0,1499817600000.0,1499904000000.0,1499990400000.0,1500249600000.0,1500336000000.0,1500508800000.0,1500768000000.0,1500854400000.0,1501027200000.0,1501459200000.0,1501891200000.0,1502064000000.0,1502150400000.0,1502236800000.0,1502582400000.0,1502668800000.0,1502841600000.0,1502928000000.0,1503187200000.0,1503360000000.0,1503446400000.0,1503532800000.0,1503619200000.0,1503705600000.0,1503792000000.0,1503878400000.0,1504137600000.0],\"y\":[0,32,23,1,3,1,0,38,6,0,3,2,0,6,0,2,0,0,1,0,0,0,3,11,3,192,1,3,1,73,102,11,4,2,3,6,1,2,1,1,9,20,6,2,2,3,1,17,5,0,8,7,2,1,0,4,1,1,1,6,1,16,0,3,5,1,0,0,0,0,0,2,1,0,0,8,1,0,2,1,3,3,0,0,1,0,0,0]}},\"id\":\"dc4ae2e7-5d2d-4563-a7f2-2e9be427e1d7\",\"type\":\"ColumnDataSource\"},{\"attributes\":{},\"id\":\"efbadd03-f342-475b-9829-073ee6f4661d\",\"type\":\"DatetimeTickFormatter\"},{\"attributes\":{\"months\":[0,6]},\"id\":\"81bd3fd3-5626-4440-a642-6137d9545108\",\"type\":\"MonthsTicker\"},{\"attributes\":{\"formatter\":{\"id\":\"efbadd03-f342-475b-9829-073ee6f4661d\",\"type\":\"DatetimeTickFormatter\"},\"plot\":{\"id\":\"87dc0e55-b5ad-4ee7-a8c0-7f5ad9a77e33\",\"subtype\":\"Figure\",\"type\":\"Plot\"},\"ticker\":{\"id\":\"2d1c71c9-7cc2-4d78-b9fe-8b4509d9c656\",\"type\":\"DatetimeTicker\"}},\"id\":\"e0e82cb4-005f-4a7b-8858-8b069f09b411\",\"type\":\"DatetimeAxis\"},{\"attributes\":{\"callback\":null,\"column_names\":[\"x\",\"y\"],\"data\":{\"x\":[1492819200000.0,1492992000000.0,1493078400000.0,1493164800000.0,1493251200000.0,1493337600000.0,1493424000000.0,1493769600000.0,1493856000000.0,1493942400000.0,1494201600000.0,1494288000000.0,1494374400000.0,1494460800000.0,1494547200000.0,1494806400000.0,1494892800000.0,1494979200000.0,1495065600000.0,1495152000000.0,1495238400000.0,1495324800000.0,1495411200000.0,1495497600000.0,1495584000000.0,1495670400000.0,1495756800000.0,1495843200000.0,1495929600000.0,1496016000000.0,1496102400000.0,1496188800000.0,1496275200000.0,1496361600000.0,1496448000000.0,1496620800000.0,1496707200000.0,1496793600000.0,1497052800000.0,1497225600000.0,1497398400000.0,1497484800000.0,1497571200000.0,1497657600000.0,1497744000000.0,1497830400000.0,1497916800000.0,1498003200000.0,1498089600000.0,1498348800000.0,1498435200000.0,1498521600000.0,1498608000000.0,1498694400000.0,1499040000000.0,1499212800000.0,1499299200000.0,1499385600000.0,1499558400000.0,1499644800000.0,1499731200000.0,1499817600000.0,1499904000000.0,1499990400000.0,1500249600000.0,1500336000000.0,1500508800000.0,1500768000000.0,1500854400000.0,1501027200000.0,1501459200000.0,1501891200000.0,1502064000000.0,1502150400000.0,1502236800000.0,1502582400000.0,1502668800000.0,1502841600000.0,1502928000000.0,1503187200000.0,1503360000000.0,1503446400000.0,1503532800000.0,1503619200000.0,1503705600000.0,1503792000000.0,1503878400000.0,1504137600000.0],\"y\":[7,59,91,59,1,2,3,0,727,1,6,2,1,32,62,47,23,29,65,12,3,5,96,15,232,187,4,2,4,137,10,42,6,0,0,21,1,1,1,0,2,2,17,1,2,2,0,3,0,1,13,25,8,1,1,3,1,4,1,4,0,28,2,2,8,2,1,1,1,1,1,3,1,2,1,0,4,6,3,14,47,2,5,2,3,1,1,1]}},\"id\":\"a397b899-6a01-48c0-87d4-76ace8b715d5\",\"type\":\"ColumnDataSource\"},{\"attributes\":{\"months\":[0,2,4,6,8,10]},\"id\":\"66f70551-678b-4f89-8b89-cd6d1b6e64c8\",\"type\":\"MonthsTicker\"},{\"attributes\":{\"days\":[1,8,15,22]},\"id\":\"12e79fb2-d2fb-44c9-82eb-d527eacf9eb4\",\"type\":\"DaysTicker\"},{\"attributes\":{\"plot\":null,\"text\":\"\"},\"id\":\"29661a27-882f-4b49-8a84-6162b0b8af4e\",\"type\":\"Title\"},{\"attributes\":{\"line_alpha\":{\"value\":0.1},\"line_color\":{\"value\":\"#1f77b4\"},\"x\":{\"field\":\"x\"},\"y\":{\"field\":\"y\"}},\"id\":\"a791b44d-4055-4762-b206-b4776a43ec9d\",\"type\":\"Line\"},{\"attributes\":{},\"id\":\"8db279bd-b611-4c84-b419-8b451e9037c8\",\"type\":\"LinearScale\"},{\"attributes\":{},\"id\":\"005a10b4-c824-436f-aa40-64ef7cd0e094\",\"type\":\"BasicTickFormatter\"},{\"attributes\":{},\"id\":\"d8baa60a-98c5-461c-a006-6bcc30f69614\",\"type\":\"LinearScale\"},{\"attributes\":{\"max_interval\":500.0,\"num_minor_ticks\":0},\"id\":\"2404c1c9-1407-4915-9aeb-fb805023aac5\",\"type\":\"AdaptiveTicker\"},{\"attributes\":{\"plot\":{\"id\":\"87dc0e55-b5ad-4ee7-a8c0-7f5ad9a77e33\",\"subtype\":\"Figure\",\"type\":\"Plot\"}},\"id\":\"5005818e-34ab-467e-9015-ebad6eb64a78\",\"type\":\"SaveTool\"},{\"attributes\":{},\"id\":\"e94eaec6-9f92-4f0e-af85-a5d46876ac3a\",\"type\":\"YearsTicker\"},{\"attributes\":{\"data_source\":{\"id\":\"dc4ae2e7-5d2d-4563-a7f2-2e9be427e1d7\",\"type\":\"ColumnDataSource\"},\"glyph\":{\"id\":\"e91c2765-f6e3-40ca-9005-3a9c86af2eab\",\"type\":\"Line\"},\"hover_glyph\":null,\"muted_glyph\":null,\"nonselection_glyph\":{\"id\":\"f6c9a762-662f-4b96-9859-2aec56ca2839\",\"type\":\"Line\"},\"selection_glyph\":null},\"id\":\"e5c90fce-ee91-4789-9319-5ef56c60c211\",\"type\":\"GlyphRenderer\"},{\"attributes\":{\"active_drag\":\"auto\",\"active_inspect\":\"auto\",\"active_scroll\":\"auto\",\"active_tap\":\"auto\",\"tools\":[{\"id\":\"d64b4e19-08ea-49bb-bef1-bb89c11824c0\",\"type\":\"PanTool\"},{\"id\":\"2f67c13b-1165-443f-9428-5d2f2d0ab49d\",\"type\":\"WheelZoomTool\"},{\"id\":\"97386f00-b64a-4574-8fb7-96fe6b542df9\",\"type\":\"BoxZoomTool\"},{\"id\":\"5005818e-34ab-467e-9015-ebad6eb64a78\",\"type\":\"SaveTool\"},{\"id\":\"de0b161c-417e-4679-85c0-297a90656ef3\",\"type\":\"ResetTool\"},{\"id\":\"7ce3c830-98fa-45f6-b12c-f55d3542a37c\",\"type\":\"HelpTool\"}]},\"id\":\"c43f0dba-edbd-42cd-9ed3-a0e088bd6764\",\"type\":\"Toolbar\"},{\"attributes\":{\"plot\":{\"id\":\"87dc0e55-b5ad-4ee7-a8c0-7f5ad9a77e33\",\"subtype\":\"Figure\",\"type\":\"Plot\"}},\"id\":\"de0b161c-417e-4679-85c0-297a90656ef3\",\"type\":\"ResetTool\"},{\"attributes\":{\"data_source\":{\"id\":\"a397b899-6a01-48c0-87d4-76ace8b715d5\",\"type\":\"ColumnDataSource\"},\"glyph\":{\"id\":\"839058fe-09b3-4207-9549-1d62f5a1cb0c\",\"type\":\"Line\"},\"hover_glyph\":null,\"muted_glyph\":null,\"nonselection_glyph\":{\"id\":\"a791b44d-4055-4762-b206-b4776a43ec9d\",\"type\":\"Line\"},\"selection_glyph\":null},\"id\":\"828e51ae-109b-448c-a62b-3fc999a473b1\",\"type\":\"GlyphRenderer\"},{\"attributes\":{\"base\":24,\"mantissas\":[1,2,4,6,8,12],\"max_interval\":43200000.0,\"min_interval\":3600000.0,\"num_minor_ticks\":0},\"id\":\"96379c2b-d97a-4b21-8f93-d28f716b6489\",\"type\":\"AdaptiveTicker\"},{\"attributes\":{\"overlay\":{\"id\":\"7914a507-5428-49de-885e-e6109ab934a7\",\"type\":\"BoxAnnotation\"},\"plot\":{\"id\":\"87dc0e55-b5ad-4ee7-a8c0-7f5ad9a77e33\",\"subtype\":\"Figure\",\"type\":\"Plot\"}},\"id\":\"97386f00-b64a-4574-8fb7-96fe6b542df9\",\"type\":\"BoxZoomTool\"},{\"attributes\":{\"callback\":null},\"id\":\"83aa8b78-7e23-4aaf-958b-6d6f20dc69b1\",\"type\":\"DataRange1d\"},{\"attributes\":{},\"id\":\"c878d22b-9ec2-4387-8f0f-91ea3c0285ff\",\"type\":\"ToolEvents\"},{\"attributes\":{\"months\":[0,1,2,3,4,5,6,7,8,9,10,11]},\"id\":\"05334fc1-d24f-4b80-923d-2da1b1554c90\",\"type\":\"MonthsTicker\"},{\"attributes\":{\"formatter\":{\"id\":\"005a10b4-c824-436f-aa40-64ef7cd0e094\",\"type\":\"BasicTickFormatter\"},\"plot\":{\"id\":\"87dc0e55-b5ad-4ee7-a8c0-7f5ad9a77e33\",\"subtype\":\"Figure\",\"type\":\"Plot\"},\"ticker\":{\"id\":\"eb3d2e82-8bd4-4302-ad67-b9e1dd7b79b1\",\"type\":\"BasicTicker\"}},\"id\":\"a6ee3467-6264-4086-a4b4-e0d686e71463\",\"type\":\"LinearAxis\"},{\"attributes\":{\"plot\":{\"id\":\"87dc0e55-b5ad-4ee7-a8c0-7f5ad9a77e33\",\"subtype\":\"Figure\",\"type\":\"Plot\"},\"ticker\":{\"id\":\"2d1c71c9-7cc2-4d78-b9fe-8b4509d9c656\",\"type\":\"DatetimeTicker\"}},\"id\":\"6ff1f3cf-c288-41bf-8716-f9a211f708f0\",\"type\":\"Grid\"},{\"attributes\":{\"plot\":{\"id\":\"87dc0e55-b5ad-4ee7-a8c0-7f5ad9a77e33\",\"subtype\":\"Figure\",\"type\":\"Plot\"}},\"id\":\"7ce3c830-98fa-45f6-b12c-f55d3542a37c\",\"type\":\"HelpTool\"},{\"attributes\":{\"bottom_units\":\"screen\",\"fill_alpha\":{\"value\":0.5},\"fill_color\":{\"value\":\"lightgrey\"},\"left_units\":\"screen\",\"level\":\"overlay\",\"line_alpha\":{\"value\":1.0},\"line_color\":{\"value\":\"black\"},\"line_dash\":[4,4],\"line_width\":{\"value\":2},\"plot\":null,\"render_mode\":\"css\",\"right_units\":\"screen\",\"top_units\":\"screen\"},\"id\":\"7914a507-5428-49de-885e-e6109ab934a7\",\"type\":\"BoxAnnotation\"},{\"attributes\":{\"line_alpha\":{\"value\":0.1},\"line_color\":{\"value\":\"#1f77b4\"},\"x\":{\"field\":\"x\"},\"y\":{\"field\":\"y\"}},\"id\":\"f6c9a762-662f-4b96-9859-2aec56ca2839\",\"type\":\"Line\"},{\"attributes\":{\"days\":[1,4,7,10,13,16,19,22,25,28]},\"id\":\"59c53a39-bc30-40e6-8231-cd29e3c79050\",\"type\":\"DaysTicker\"},{\"attributes\":{\"plot\":{\"id\":\"87dc0e55-b5ad-4ee7-a8c0-7f5ad9a77e33\",\"subtype\":\"Figure\",\"type\":\"Plot\"}},\"id\":\"2f67c13b-1165-443f-9428-5d2f2d0ab49d\",\"type\":\"WheelZoomTool\"},{\"attributes\":{\"days\":[1,2,3,4,5,6,7,8,9,10,11,12,13,14,15,16,17,18,19,20,21,22,23,24,25,26,27,28,29,30,31]},\"id\":\"1724e563-3ebb-40a7-b630-3a16ffda19a6\",\"type\":\"DaysTicker\"},{\"attributes\":{\"dimension\":1,\"plot\":{\"id\":\"87dc0e55-b5ad-4ee7-a8c0-7f5ad9a77e33\",\"subtype\":\"Figure\",\"type\":\"Plot\"},\"ticker\":{\"id\":\"eb3d2e82-8bd4-4302-ad67-b9e1dd7b79b1\",\"type\":\"BasicTicker\"}},\"id\":\"259e07be-4b8d-438e-ae73-af103458d8b3\",\"type\":\"Grid\"},{\"attributes\":{\"line_alpha\":{\"value\":0.5},\"line_color\":{\"value\":\"red\"},\"x\":{\"field\":\"x\"},\"y\":{\"field\":\"y\"}},\"id\":\"e91c2765-f6e3-40ca-9005-3a9c86af2eab\",\"type\":\"Line\"},{\"attributes\":{\"line_alpha\":{\"value\":0.5},\"line_color\":{\"value\":\"green\"},\"x\":{\"field\":\"x\"},\"y\":{\"field\":\"y\"}},\"id\":\"839058fe-09b3-4207-9549-1d62f5a1cb0c\",\"type\":\"Line\"},{\"attributes\":{\"num_minor_ticks\":5},\"id\":\"2d1c71c9-7cc2-4d78-b9fe-8b4509d9c656\",\"type\":\"DatetimeTicker\"}],\"root_ids\":[\"87dc0e55-b5ad-4ee7-a8c0-7f5ad9a77e33\"]},\"title\":\"Bokeh Application\",\"version\":\"0.12.6\"}};\n",
       "            var render_items = [{\"docid\":\"2a59674f-9eb0-4d69-8113-36e98c300aa9\",\"elementid\":\"00f4515d-9379-45f8-b140-657e795c4fbf\",\"modelid\":\"87dc0e55-b5ad-4ee7-a8c0-7f5ad9a77e33\"}];\n",
       "            \n",
       "            Bokeh.embed.embed_items(docs_json, render_items);\n",
       "          };\n",
       "          if (document.readyState != \"loading\") fn();\n",
       "          else document.addEventListener(\"DOMContentLoaded\", fn);\n",
       "        })();\n",
       "      },\n",
       "      function(Bokeh) {\n",
       "      }\n",
       "    ];\n",
       "  \n",
       "    function run_inline_js() {\n",
       "      \n",
       "      if ((window.Bokeh !== undefined) || (force === true)) {\n",
       "        for (var i = 0; i < inline_js.length; i++) {\n",
       "          inline_js[i](window.Bokeh);\n",
       "        }if (force === true) {\n",
       "          display_loaded();\n",
       "        }} else if (Date.now() < window._bokeh_timeout) {\n",
       "        setTimeout(run_inline_js, 100);\n",
       "      } else if (!window._bokeh_failed_load) {\n",
       "        console.log(\"Bokeh: BokehJS failed to load within specified timeout.\");\n",
       "        window._bokeh_failed_load = true;\n",
       "      } else if (force !== true) {\n",
       "        var cell = $(document.getElementById(\"00f4515d-9379-45f8-b140-657e795c4fbf\")).parents('.cell').data().cell;\n",
       "        cell.output_area.append_execute_result(NB_LOAD_WARNING)\n",
       "      }\n",
       "  \n",
       "    }\n",
       "  \n",
       "    if (window._bokeh_is_loading === 0) {\n",
       "      console.log(\"Bokeh: BokehJS loaded, going straight to plotting\");\n",
       "      run_inline_js();\n",
       "    } else {\n",
       "      load_libs(js_urls, function() {\n",
       "        console.log(\"Bokeh: BokehJS plotting callback run at\", now());\n",
       "        run_inline_js();\n",
       "      });\n",
       "    }\n",
       "  }(this));\n",
       "</script>"
      ]
     },
     "metadata": {},
     "output_type": "display_data"
    }
   ],
   "source": [
    "# create a new plot with a datetime axis type\n",
    "p = figure(plot_width=800, plot_height=250, x_axis_type=\"datetime\")\n",
    "\n",
    "# Add red line showing failure\n",
    "p.line(success_and_failure_over_time.index, success_and_failure_over_time['Failure'], color='red', alpha=0.5)\n",
    "\n",
    "# Add green line showing success\n",
    "p.line(success_and_failure_over_time.index, success_and_failure_over_time['Success'], color='green', alpha=0.5)\n",
    "\n",
    "# Show the plot\n",
    "show(p)"
   ]
  },
  {
   "cell_type": "code",
   "execution_count": null,
   "metadata": {
    "collapsed": true,
    "extensions": {
     "jupyter_dashboards": {
      "version": 1,
      "views": {
       "grid_default": {
        "hidden": true
       },
       "report_default": {
        "hidden": true
       }
      }
     }
    }
   },
   "outputs": [],
   "source": []
  }
 ],
 "metadata": {
  "extensions": {
   "jupyter_dashboards": {
    "activeView": "report_default",
    "version": 1,
    "views": {
     "grid_default": {
      "cellMargin": 10,
      "defaultCellHeight": 20,
      "maxColumns": 12,
      "name": "grid",
      "type": "grid"
     },
     "report_default": {
      "name": "report",
      "type": "report"
     }
    }
   }
  },
  "kernelspec": {
   "display_name": "Python 3",
   "language": "python",
   "name": "python3"
  },
  "language_info": {
   "codemirror_mode": {
    "name": "ipython",
    "version": 3
   },
   "file_extension": ".py",
   "mimetype": "text/x-python",
   "name": "python",
   "nbconvert_exporter": "python",
   "pygments_lexer": "ipython3",
   "version": "3.6.2"
  }
 },
 "nbformat": 4,
 "nbformat_minor": 2
}
