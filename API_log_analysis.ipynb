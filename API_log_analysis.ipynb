{
 "cells": [
  {
   "cell_type": "markdown",
   "metadata": {},
   "source": [
    "Experiment working with anonymized API log data."
   ]
  },
  {
   "cell_type": "code",
   "execution_count": 37,
   "metadata": {},
   "outputs": [],
   "source": [
    "import pandas as pd\n",
    "%matplotlib inline"
   ]
  },
  {
   "cell_type": "code",
   "execution_count": 38,
   "metadata": {},
   "outputs": [
    {
     "data": {
      "text/plain": [
       "Index(['Method', 'Country', 'State', 'City', 'Status', 'Reason Denied',\n",
       "       'Response Time', 'Content Type', 'Accept Encoding', 'User Agent',\n",
       "       'Unnamed: 11', 'Unnamed: 12'],\n",
       "      dtype='object')"
      ]
     },
     "execution_count": 38,
     "metadata": {},
     "output_type": "execute_result"
    }
   ],
   "source": [
    "# Import API logs data\n",
    "api_logs = pd.read_csv('api_logs.csv', index_col=0, parse_dates=[0])\n",
    "\n",
    "# Take a look at the columns available\n",
    "api_logs.columns"
   ]
  },
  {
   "cell_type": "code",
   "execution_count": 46,
   "metadata": {},
   "outputs": [
    {
     "name": "stdout",
     "output_type": "stream",
     "text": [
      "DatetimeIndex(['2017-04-25 11:43:48', '2017-04-25 11:43:48',\n",
      "               '2017-04-25 11:43:48', '2017-04-25 11:45:34',\n",
      "               '2017-04-25 11:47:39', '2017-04-25 11:46:01',\n",
      "               '2017-04-25 11:47:20', '2017-04-25 11:46:10',\n",
      "               '2017-04-25 11:46:17', '2017-04-25 11:44:46',\n",
      "               ...\n",
      "               '2017-05-31 07:50:32', '2017-05-31 07:52:05',\n",
      "               '2017-05-31 08:23:18', '2017-05-31 09:55:25',\n",
      "               '2017-05-31 09:53:51', '2017-05-31 09:55:31',\n",
      "               '2017-05-31 10:05:42', '2017-05-31 10:05:50',\n",
      "               '2017-05-31 10:05:50', '2017-05-31 10:09:36'],\n",
      "              dtype='datetime64[ns]', name='Time', length=2912, freq=None)\n"
     ]
    }
   ],
   "source": [
    "# Make sure DataFrame has DatetimeIndex\n",
    "print(api_logs.index)"
   ]
  },
  {
   "cell_type": "code",
   "execution_count": 40,
   "metadata": {},
   "outputs": [
    {
     "data": {
      "text/html": [
       "<div>\n",
       "<style>\n",
       "    .dataframe thead tr:only-child th {\n",
       "        text-align: right;\n",
       "    }\n",
       "\n",
       "    .dataframe thead th {\n",
       "        text-align: left;\n",
       "    }\n",
       "\n",
       "    .dataframe tbody tr th {\n",
       "        vertical-align: top;\n",
       "    }\n",
       "</style>\n",
       "<table border=\"1\" class=\"dataframe\">\n",
       "  <thead>\n",
       "    <tr style=\"text-align: right;\">\n",
       "      <th></th>\n",
       "      <th>Method</th>\n",
       "      <th>Country</th>\n",
       "      <th>State</th>\n",
       "      <th>City</th>\n",
       "      <th>Status</th>\n",
       "      <th>Reason Denied</th>\n",
       "      <th>Response Time</th>\n",
       "      <th>Content Type</th>\n",
       "      <th>Accept Encoding</th>\n",
       "      <th>User Agent</th>\n",
       "      <th>Unnamed: 11</th>\n",
       "      <th>Unnamed: 12</th>\n",
       "      <th>Outcome</th>\n",
       "    </tr>\n",
       "    <tr>\n",
       "      <th>Time</th>\n",
       "      <th></th>\n",
       "      <th></th>\n",
       "      <th></th>\n",
       "      <th></th>\n",
       "      <th></th>\n",
       "      <th></th>\n",
       "      <th></th>\n",
       "      <th></th>\n",
       "      <th></th>\n",
       "      <th></th>\n",
       "      <th></th>\n",
       "      <th></th>\n",
       "      <th></th>\n",
       "    </tr>\n",
       "  </thead>\n",
       "  <tbody>\n",
       "    <tr>\n",
       "      <th>2017-04-25 11:43:48</th>\n",
       "      <td>GET</td>\n",
       "      <td>RU</td>\n",
       "      <td>38</td>\n",
       "      <td>Krasnodar</td>\n",
       "      <td>200</td>\n",
       "      <td>NaN</td>\n",
       "      <td>305</td>\n",
       "      <td>application/json; charset=utf-8</td>\n",
       "      <td>gzip, deflate, sdch, br</td>\n",
       "      <td>Mozilla/5.0 (Macintosh; Intel Mac OS X 10_12_4...</td>\n",
       "      <td>Chrome</td>\n",
       "      <td>Browser</td>\n",
       "      <td>Success</td>\n",
       "    </tr>\n",
       "    <tr>\n",
       "      <th>2017-04-25 11:43:48</th>\n",
       "      <td>GET</td>\n",
       "      <td>RU</td>\n",
       "      <td>38</td>\n",
       "      <td>Krasnodar</td>\n",
       "      <td>200</td>\n",
       "      <td>NaN</td>\n",
       "      <td>383</td>\n",
       "      <td>application/json; charset=utf-8</td>\n",
       "      <td>gzip, deflate, sdch, br</td>\n",
       "      <td>Mozilla/5.0 (Macintosh; Intel Mac OS X 10_12_4...</td>\n",
       "      <td>Chrome</td>\n",
       "      <td>Browser</td>\n",
       "      <td>Success</td>\n",
       "    </tr>\n",
       "    <tr>\n",
       "      <th>2017-04-25 11:43:48</th>\n",
       "      <td>GET</td>\n",
       "      <td>RU</td>\n",
       "      <td>38</td>\n",
       "      <td>Krasnodar</td>\n",
       "      <td>200</td>\n",
       "      <td>NaN</td>\n",
       "      <td>25</td>\n",
       "      <td>application/json; charset=utf-8</td>\n",
       "      <td>gzip, deflate, sdch, br</td>\n",
       "      <td>Mozilla/5.0 (Macintosh; Intel Mac OS X 10_12_4...</td>\n",
       "      <td>Chrome</td>\n",
       "      <td>Browser</td>\n",
       "      <td>Success</td>\n",
       "    </tr>\n",
       "    <tr>\n",
       "      <th>2017-04-25 11:45:34</th>\n",
       "      <td>GET</td>\n",
       "      <td>RU</td>\n",
       "      <td>38</td>\n",
       "      <td>Krasnodar</td>\n",
       "      <td>200</td>\n",
       "      <td>NaN</td>\n",
       "      <td>67</td>\n",
       "      <td>application/json; charset=utf-8</td>\n",
       "      <td>gzip, deflate, sdch, br</td>\n",
       "      <td>Mozilla/5.0 (Macintosh; Intel Mac OS X 10_12_4...</td>\n",
       "      <td>Chrome</td>\n",
       "      <td>Browser</td>\n",
       "      <td>Success</td>\n",
       "    </tr>\n",
       "    <tr>\n",
       "      <th>2017-04-25 11:47:39</th>\n",
       "      <td>GET</td>\n",
       "      <td>RU</td>\n",
       "      <td>38</td>\n",
       "      <td>Krasnodar</td>\n",
       "      <td>200</td>\n",
       "      <td>NaN</td>\n",
       "      <td>45</td>\n",
       "      <td>application/json; charset=utf-8</td>\n",
       "      <td>gzip, deflate, sdch, br</td>\n",
       "      <td>Mozilla/5.0 (Macintosh; Intel Mac OS X 10_12_4...</td>\n",
       "      <td>Chrome</td>\n",
       "      <td>Browser</td>\n",
       "      <td>Success</td>\n",
       "    </tr>\n",
       "  </tbody>\n",
       "</table>\n",
       "</div>"
      ],
      "text/plain": [
       "                    Method Country State       City  Status  Reason Denied  \\\n",
       "Time                                                                         \n",
       "2017-04-25 11:43:48    GET      RU    38  Krasnodar     200            NaN   \n",
       "2017-04-25 11:43:48    GET      RU    38  Krasnodar     200            NaN   \n",
       "2017-04-25 11:43:48    GET      RU    38  Krasnodar     200            NaN   \n",
       "2017-04-25 11:45:34    GET      RU    38  Krasnodar     200            NaN   \n",
       "2017-04-25 11:47:39    GET      RU    38  Krasnodar     200            NaN   \n",
       "\n",
       "                     Response Time                     Content Type  \\\n",
       "Time                                                                  \n",
       "2017-04-25 11:43:48            305  application/json; charset=utf-8   \n",
       "2017-04-25 11:43:48            383  application/json; charset=utf-8   \n",
       "2017-04-25 11:43:48             25  application/json; charset=utf-8   \n",
       "2017-04-25 11:45:34             67  application/json; charset=utf-8   \n",
       "2017-04-25 11:47:39             45  application/json; charset=utf-8   \n",
       "\n",
       "                             Accept Encoding  \\\n",
       "Time                                           \n",
       "2017-04-25 11:43:48  gzip, deflate, sdch, br   \n",
       "2017-04-25 11:43:48  gzip, deflate, sdch, br   \n",
       "2017-04-25 11:43:48  gzip, deflate, sdch, br   \n",
       "2017-04-25 11:45:34  gzip, deflate, sdch, br   \n",
       "2017-04-25 11:47:39  gzip, deflate, sdch, br   \n",
       "\n",
       "                                                            User Agent  \\\n",
       "Time                                                                     \n",
       "2017-04-25 11:43:48  Mozilla/5.0 (Macintosh; Intel Mac OS X 10_12_4...   \n",
       "2017-04-25 11:43:48  Mozilla/5.0 (Macintosh; Intel Mac OS X 10_12_4...   \n",
       "2017-04-25 11:43:48  Mozilla/5.0 (Macintosh; Intel Mac OS X 10_12_4...   \n",
       "2017-04-25 11:45:34  Mozilla/5.0 (Macintosh; Intel Mac OS X 10_12_4...   \n",
       "2017-04-25 11:47:39  Mozilla/5.0 (Macintosh; Intel Mac OS X 10_12_4...   \n",
       "\n",
       "                    Unnamed: 11 Unnamed: 12  Outcome  \n",
       "Time                                                  \n",
       "2017-04-25 11:43:48      Chrome     Browser  Success  \n",
       "2017-04-25 11:43:48      Chrome     Browser  Success  \n",
       "2017-04-25 11:43:48      Chrome     Browser  Success  \n",
       "2017-04-25 11:45:34      Chrome     Browser  Success  \n",
       "2017-04-25 11:47:39      Chrome     Browser  Success  "
      ]
     },
     "execution_count": 40,
     "metadata": {},
     "output_type": "execute_result"
    }
   ],
   "source": [
    "def is_success_function(row):\n",
    "    \"\"\"\n",
    "    Check if row (request) was successful\n",
    "    Successful means a response with 2xx status\n",
    "    \n",
    "    return True if successful False otherwise\n",
    "    \"\"\"\n",
    "    success = (row['Status'] >= 200 and row['Status'] < 300)\n",
    "    \n",
    "    if success:\n",
    "        return 'Success'\n",
    "    else:\n",
    "        return 'Failure'\n",
    "    \n",
    "# Add 'Success' column to API Logs\n",
    "# Success is determined by status code, where any status in the 200s is considered successful\n",
    "api_logs['Outcome'] = api_logs.apply(is_success_function , axis='columns')\n",
    "api_logs.head()"
   ]
  },
  {
   "cell_type": "markdown",
   "metadata": {},
   "source": [
    "# Analysis\n",
    "Get a feel for the data."
   ]
  },
  {
   "cell_type": "code",
   "execution_count": 41,
   "metadata": {},
   "outputs": [
    {
     "data": {
      "text/plain": [
       "<matplotlib.axes._subplots.AxesSubplot at 0x7faad3cfefd0>"
      ]
     },
     "execution_count": 41,
     "metadata": {},
     "output_type": "execute_result"
    },
    {
     "data": {
      "image/png": "[encoded data removed]",
      "text/plain": [
       "<matplotlib.figure.Figure at 0x7faad3ba0cc0>"
      ]
     },
     "metadata": {},
     "output_type": "display_data"
    }
   ],
   "source": [
    "# Check the distribution of statuses in the data\n",
    "api_logs['Status'].value_counts().plot('bar', title='Response code counts')"
   ]
  },
  {
   "cell_type": "code",
   "execution_count": 42,
   "metadata": {},
   "outputs": [
    {
     "data": {
      "image/png": "[encoded data removed]",
      "text/plain": [
       "<matplotlib.figure.Figure at 0x7faad3b38cc0>"
      ]
     },
     "metadata": {},
     "output_type": "display_data"
    }
   ],
   "source": [
    "# Compare number of successful versus unsuccessful requests\n",
    "success_versus_failure = api_logs.groupby('Outcome').size().plot('bar', title='Successful versus unsuccessful requests')"
   ]
  },
  {
   "cell_type": "code",
   "execution_count": 50,
   "metadata": {},
   "outputs": [],
   "source": [
    "# Group API logs by date and outcome\n",
    "daily_failure_success_groups = api_logs.groupby([api_logs.index.date, 'Outcome']).size().head()"
   ]
  },
  {
   "cell_type": "code",
   "execution_count": 51,
   "metadata": {},
   "outputs": [
    {
     "data": {
      "text/html": [
       "<div>\n",
       "<style>\n",
       "    .dataframe thead tr:only-child th {\n",
       "        text-align: right;\n",
       "    }\n",
       "\n",
       "    .dataframe thead th {\n",
       "        text-align: left;\n",
       "    }\n",
       "\n",
       "    .dataframe tbody tr th {\n",
       "        vertical-align: top;\n",
       "    }\n",
       "</style>\n",
       "<table border=\"1\" class=\"dataframe\">\n",
       "  <thead>\n",
       "    <tr style=\"text-align: right;\">\n",
       "      <th>Outcome</th>\n",
       "      <th>Failure</th>\n",
       "      <th>Success</th>\n",
       "    </tr>\n",
       "  </thead>\n",
       "  <tbody>\n",
       "    <tr>\n",
       "      <th>2017-04-22</th>\n",
       "      <td>0</td>\n",
       "      <td>7</td>\n",
       "    </tr>\n",
       "    <tr>\n",
       "      <th>2017-04-24</th>\n",
       "      <td>32</td>\n",
       "      <td>59</td>\n",
       "    </tr>\n",
       "    <tr>\n",
       "      <th>2017-04-25</th>\n",
       "      <td>23</td>\n",
       "      <td>91</td>\n",
       "    </tr>\n",
       "  </tbody>\n",
       "</table>\n",
       "</div>"
      ],
      "text/plain": [
       "Outcome     Failure  Success\n",
       "2017-04-22        0        7\n",
       "2017-04-24       32       59\n",
       "2017-04-25       23       91"
      ]
     },
     "execution_count": 51,
     "metadata": {},
     "output_type": "execute_result"
    }
   ],
   "source": [
    "# Flatten grouped data, so each row has a failure and success column\n",
    "# Replace NaN numbers with zero (fill_value=0)\n",
    "success_and_failure_over_time = daily_failure_success_groups.unstack(fill_value=0)\n",
    "\n",
    "success_and_failure_over_time.head()"
   ]
  },
  {
   "cell_type": "code",
   "execution_count": 52,
   "metadata": {},
   "outputs": [
    {
     "data": {
      "image/png": "[encoded data removed]",
      "text/plain": [
       "<matplotlib.figure.Figure at 0x7faad3bf44a8>"
      ]
     },
     "metadata": {},
     "output_type": "display_data"
    }
   ],
   "source": [
    "# Plot success and failure countes over time\n",
    "success_and_failure_chart = success_and_failure_over_time.plot(rot=45)"
   ]
  },
  {
   "cell_type": "code",
   "execution_count": null,
   "metadata": {
    "collapsed": true
   },
   "outputs": [],
   "source": []
  }
 ],
 "metadata": {
  "kernelspec": {
   "display_name": "Python 3",
   "language": "python",
   "name": "python3"
  },
  "language_info": {
   "codemirror_mode": {
    "name": "ipython",
    "version": 3
   },
   "file_extension": ".py",
   "mimetype": "text/x-python",
   "name": "python",
   "nbconvert_exporter": "python",
   "pygments_lexer": "ipython3",
   "version": "3.6.2"
  }
 },
 "nbformat": 4,
 "nbformat_minor": 2
}
