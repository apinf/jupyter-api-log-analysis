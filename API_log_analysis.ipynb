{
 "cells": [
  {
   "cell_type": "markdown",
   "metadata": {
    "extensions": {
     "jupyter_dashboards": {
      "version": 1,
      "views": {
       "grid_default": {
        "col": 0,
        "height": 4,
        "hidden": true,
        "row": 11,
        "width": 4
       },
       "report_default": {
        "hidden": true
       }
      }
     }
    }
   },
   "source": [
    "Experiment working with anonymized API log data."
   ]
  },
  {
   "cell_type": "code",
   "execution_count": 1,
   "metadata": {
    "extensions": {
     "jupyter_dashboards": {
      "version": 1,
      "views": {
       "grid_default": {
        "col": 4,
        "height": 4,
        "hidden": true,
        "row": 0,
        "width": 4
       },
       "report_default": {
        "hidden": true
       }
      }
     }
    }
   },
   "outputs": [
    {
     "data": {
      "text/html": [
       "\n",
       "    <div class=\"bk-root\">\n",
       "        <a href=\"https://bokeh.pydata.org\" target=\"_blank\" class=\"bk-logo bk-logo-small bk-logo-notebook\"></a>\n",
       "        <span id=\"8d0f0ec8-5ab6-4979-bc1b-9caf0ffca023\">Loading BokehJS ...</span>\n",
       "    </div>"
      ]
     },
     "metadata": {},
     "output_type": "display_data"
    },
    {
     "data": {
      "application/javascript": [
       "\n",
       "(function(root) {\n",
       "  function now() {\n",
       "    return new Date();\n",
       "  }\n",
       "\n",
       "  var force = true;\n",
       "\n",
       "  if (typeof (root._bokeh_onload_callbacks) === \"undefined\" || force === true) {\n",
       "    root._bokeh_onload_callbacks = [];\n",
       "    root._bokeh_is_loading = undefined;\n",
       "  }\n",
       "\n",
       "  var JS_MIME_TYPE = 'application/javascript';\n",
       "  var HTML_MIME_TYPE = 'text/html';\n",
       "  var EXEC_MIME_TYPE = 'application/vnd.bokehjs_exec.v0+json';\n",
       "  var CLASS_NAME = 'output_bokeh rendered_html';\n",
       "\n",
       "  /**\n",
       "   * Render data to the DOM node\n",
       "   */\n",
       "  function render(props, node) {\n",
       "    var script = document.createElement(\"script\");\n",
       "    node.appendChild(script);\n",
       "  }\n",
       "\n",
       "  /**\n",
       "   * Handle when an output is cleared or removed\n",
       "   */\n",
       "  function handleClearOutput(event, handle) {\n",
       "    var cell = handle.cell;\n",
       "\n",
       "    var id = cell.output_area._bokeh_element_id;\n",
       "    var server_id = cell.output_area._bokeh_server_id;\n",
       "    // Clean up Bokeh references\n",
       "    if (id !== undefined) {\n",
       "      Bokeh.index[id].model.document.clear();\n",
       "      delete Bokeh.index[id];\n",
       "    }\n",
       "\n",
       "    if (server_id !== undefined) {\n",
       "      // Clean up Bokeh references\n",
       "      var cmd = \"from bokeh.io import _state; print(_state.uuid_to_server['\" + server_id + \"'].get_sessions()[0].document.roots[0]._id)\";\n",
       "      cell.notebook.kernel.execute(cmd, {\n",
       "        iopub: {\n",
       "          output: function(msg) {\n",
       "            var element_id = msg.content.text.trim();\n",
       "            Bokeh.index[element_id].model.document.clear();\n",
       "            delete Bokeh.index[element_id];\n",
       "          }\n",
       "        }\n",
       "      });\n",
       "      // Destroy server and session\n",
       "      var cmd = \"from bokeh import io; io._destroy_server('\" + server_id + \"')\";\n",
       "      cell.notebook.kernel.execute(cmd);\n",
       "    }\n",
       "  }\n",
       "\n",
       "  /**\n",
       "   * Handle when a new output is added\n",
       "   */\n",
       "  function handleAddOutput(event, handle) {\n",
       "    var output_area = handle.output_area;\n",
       "    var output = handle.output;\n",
       "\n",
       "    // limit handleAddOutput to display_data with EXEC_MIME_TYPE content only\n",
       "    if ((output.output_type != \"display_data\") || (!output.data.hasOwnProperty(EXEC_MIME_TYPE))) {\n",
       "      return\n",
       "    }\n",
       "\n",
       "    var toinsert = output_area.element.find(`.${CLASS_NAME.split(' ')[0]}`);\n",
       "\n",
       "    if (output.metadata[EXEC_MIME_TYPE][\"id\"] !== undefined) {\n",
       "      toinsert[0].firstChild.textContent = output.data[JS_MIME_TYPE];\n",
       "      // store reference to embed id on output_area\n",
       "      output_area._bokeh_element_id = output.metadata[EXEC_MIME_TYPE][\"id\"];\n",
       "    }\n",
       "    if (output.metadata[EXEC_MIME_TYPE][\"server_id\"] !== undefined) {\n",
       "      var bk_div = document.createElement(\"div\");\n",
       "      bk_div.innerHTML = output.data[HTML_MIME_TYPE];\n",
       "      var script_attrs = bk_div.children[0].attributes;\n",
       "      for (var i = 0; i < script_attrs.length; i++) {\n",
       "        toinsert[0].firstChild.setAttribute(script_attrs[i].name, script_attrs[i].value);\n",
       "      }\n",
       "      // store reference to server id on output_area\n",
       "      output_area._bokeh_server_id = output.metadata[EXEC_MIME_TYPE][\"server_id\"];\n",
       "    }\n",
       "  }\n",
       "\n",
       "  function register_renderer(events, OutputArea) {\n",
       "\n",
       "    function append_mime(data, metadata, element) {\n",
       "      // create a DOM node to render to\n",
       "      var toinsert = this.create_output_subarea(\n",
       "        metadata,\n",
       "        CLASS_NAME,\n",
       "        EXEC_MIME_TYPE\n",
       "      );\n",
       "      this.keyboard_manager.register_events(toinsert);\n",
       "      // Render to node\n",
       "      var props = {data: data, metadata: metadata[EXEC_MIME_TYPE]};\n",
       "      render(props, toinsert[0]);\n",
       "      element.append(toinsert);\n",
       "      return toinsert\n",
       "    }\n",
       "\n",
       "    /* Handle when an output is cleared or removed */\n",
       "    events.on('clear_output.CodeCell', handleClearOutput);\n",
       "    events.on('delete.Cell', handleClearOutput);\n",
       "\n",
       "    /* Handle when a new output is added */\n",
       "    events.on('output_added.OutputArea', handleAddOutput);\n",
       "\n",
       "    /**\n",
       "     * Register the mime type and append_mime function with output_area\n",
       "     */\n",
       "    OutputArea.prototype.register_mime_type(EXEC_MIME_TYPE, append_mime, {\n",
       "      /* Is output safe? */\n",
       "      safe: true,\n",
       "      /* Index of renderer in `output_area.display_order` */\n",
       "      index: 0\n",
       "    });\n",
       "  }\n",
       "\n",
       "  // register the mime type if in Jupyter Notebook environment and previously unregistered\n",
       "  if (root.Jupyter !== undefined) {\n",
       "    var events = require('base/js/events');\n",
       "    var OutputArea = require('notebook/js/outputarea').OutputArea;\n",
       "\n",
       "    if (OutputArea.prototype.mime_types().indexOf(EXEC_MIME_TYPE) == -1) {\n",
       "      register_renderer(events, OutputArea);\n",
       "    }\n",
       "  }\n",
       "\n",
       "  \n",
       "  if (typeof (root._bokeh_timeout) === \"undefined\" || force === true) {\n",
       "    root._bokeh_timeout = Date.now() + 5000;\n",
       "    root._bokeh_failed_load = false;\n",
       "  }\n",
       "\n",
       "  var NB_LOAD_WARNING = {'data': {'text/html':\n",
       "     \"<div style='background-color: #fdd'>\\n\"+\n",
       "     \"<p>\\n\"+\n",
       "     \"BokehJS does not appear to have successfully loaded. If loading BokehJS from CDN, this \\n\"+\n",
       "     \"may be due to a slow or bad network connection. Possible fixes:\\n\"+\n",
       "     \"</p>\\n\"+\n",
       "     \"<ul>\\n\"+\n",
       "     \"<li>re-rerun `output_notebook()` to attempt to load from CDN again, or</li>\\n\"+\n",
       "     \"<li>use INLINE resources instead, as so:</li>\\n\"+\n",
       "     \"</ul>\\n\"+\n",
       "     \"<code>\\n\"+\n",
       "     \"from bokeh.resources import INLINE\\n\"+\n",
       "     \"output_notebook(resources=INLINE)\\n\"+\n",
       "     \"</code>\\n\"+\n",
       "     \"</div>\"}};\n",
       "\n",
       "  function display_loaded() {\n",
       "    var el = document.getElementById(\"8d0f0ec8-5ab6-4979-bc1b-9caf0ffca023\");\n",
       "    if (el != null) {\n",
       "      el.textContent = \"BokehJS is loading...\";\n",
       "    }\n",
       "    if (root.Bokeh !== undefined) {\n",
       "      if (el != null) {\n",
       "        el.textContent = \"BokehJS \" + root.Bokeh.version + \" successfully loaded.\";\n",
       "      }\n",
       "    } else if (Date.now() < root._bokeh_timeout) {\n",
       "      setTimeout(display_loaded, 100)\n",
       "    }\n",
       "  }\n",
       "\n",
       "\n",
       "  function run_callbacks() {\n",
       "    try {\n",
       "      root._bokeh_onload_callbacks.forEach(function(callback) { callback() });\n",
       "    }\n",
       "    finally {\n",
       "      delete root._bokeh_onload_callbacks\n",
       "    }\n",
       "    console.info(\"Bokeh: all callbacks have finished\");\n",
       "  }\n",
       "\n",
       "  function load_libs(js_urls, callback) {\n",
       "    root._bokeh_onload_callbacks.push(callback);\n",
       "    if (root._bokeh_is_loading > 0) {\n",
       "      console.log(\"Bokeh: BokehJS is being loaded, scheduling callback at\", now());\n",
       "      return null;\n",
       "    }\n",
       "    if (js_urls == null || js_urls.length === 0) {\n",
       "      run_callbacks();\n",
       "      return null;\n",
       "    }\n",
       "    console.log(\"Bokeh: BokehJS not loaded, scheduling load and callback at\", now());\n",
       "    root._bokeh_is_loading = js_urls.length;\n",
       "    for (var i = 0; i < js_urls.length; i++) {\n",
       "      var url = js_urls[i];\n",
       "      var s = document.createElement('script');\n",
       "      s.src = url;\n",
       "      s.async = false;\n",
       "      s.onreadystatechange = s.onload = function() {\n",
       "        root._bokeh_is_loading--;\n",
       "        if (root._bokeh_is_loading === 0) {\n",
       "          console.log(\"Bokeh: all BokehJS libraries loaded\");\n",
       "          run_callbacks()\n",
       "        }\n",
       "      };\n",
       "      s.onerror = function() {\n",
       "        console.warn(\"failed to load library \" + url);\n",
       "      };\n",
       "      console.log(\"Bokeh: injecting script tag for BokehJS library: \", url);\n",
       "      document.getElementsByTagName(\"head\")[0].appendChild(s);\n",
       "    }\n",
       "  };var element = document.getElementById(\"8d0f0ec8-5ab6-4979-bc1b-9caf0ffca023\");\n",
       "  if (element == null) {\n",
       "    console.log(\"Bokeh: ERROR: autoload.js configured with elementid '8d0f0ec8-5ab6-4979-bc1b-9caf0ffca023' but no matching script tag was found. \")\n",
       "    return false;\n",
       "  }\n",
       "\n",
       "  var js_urls = [\"https://cdn.pydata.org/bokeh/release/bokeh-0.12.9.min.js\", \"https://cdn.pydata.org/bokeh/release/bokeh-widgets-0.12.9.min.js\", \"https://cdn.pydata.org/bokeh/release/bokeh-tables-0.12.9.min.js\", \"https://cdn.pydata.org/bokeh/release/bokeh-gl-0.12.9.min.js\"];\n",
       "\n",
       "  var inline_js = [\n",
       "    function(Bokeh) {\n",
       "      Bokeh.set_log_level(\"info\");\n",
       "    },\n",
       "    \n",
       "    function(Bokeh) {\n",
       "      \n",
       "    },\n",
       "    function(Bokeh) {\n",
       "      console.log(\"Bokeh: injecting CSS: https://cdn.pydata.org/bokeh/release/bokeh-0.12.9.min.css\");\n",
       "      Bokeh.embed.inject_css(\"https://cdn.pydata.org/bokeh/release/bokeh-0.12.9.min.css\");\n",
       "      console.log(\"Bokeh: injecting CSS: https://cdn.pydata.org/bokeh/release/bokeh-widgets-0.12.9.min.css\");\n",
       "      Bokeh.embed.inject_css(\"https://cdn.pydata.org/bokeh/release/bokeh-widgets-0.12.9.min.css\");\n",
       "      console.log(\"Bokeh: injecting CSS: https://cdn.pydata.org/bokeh/release/bokeh-tables-0.12.9.min.css\");\n",
       "      Bokeh.embed.inject_css(\"https://cdn.pydata.org/bokeh/release/bokeh-tables-0.12.9.min.css\");\n",
       "    }\n",
       "  ];\n",
       "\n",
       "  function run_inline_js() {\n",
       "    \n",
       "    if ((root.Bokeh !== undefined) || (force === true)) {\n",
       "      for (var i = 0; i < inline_js.length; i++) {\n",
       "        inline_js[i].call(root, root.Bokeh);\n",
       "      }if (force === true) {\n",
       "        display_loaded();\n",
       "      }} else if (Date.now() < root._bokeh_timeout) {\n",
       "      setTimeout(run_inline_js, 100);\n",
       "    } else if (!root._bokeh_failed_load) {\n",
       "      console.log(\"Bokeh: BokehJS failed to load within specified timeout.\");\n",
       "      root._bokeh_failed_load = true;\n",
       "    } else if (force !== true) {\n",
       "      var cell = $(document.getElementById(\"8d0f0ec8-5ab6-4979-bc1b-9caf0ffca023\")).parents('.cell').data().cell;\n",
       "      cell.output_area.append_execute_result(NB_LOAD_WARNING)\n",
       "    }\n",
       "\n",
       "  }\n",
       "\n",
       "  if (root._bokeh_is_loading === 0) {\n",
       "    console.log(\"Bokeh: BokehJS loaded, going straight to plotting\");\n",
       "    run_inline_js();\n",
       "  } else {\n",
       "    load_libs(js_urls, function() {\n",
       "      console.log(\"Bokeh: BokehJS plotting callback run at\", now());\n",
       "      run_inline_js();\n",
       "    });\n",
       "  }\n",
       "}(window));"
      ],
      "application/vnd.bokehjs_load.v0+json": "\n(function(root) {\n  function now() {\n    return new Date();\n  }\n\n  var force = true;\n\n  if (typeof (root._bokeh_onload_callbacks) === \"undefined\" || force === true) {\n    root._bokeh_onload_callbacks = [];\n    root._bokeh_is_loading = undefined;\n  }\n\n  \n\n  \n  if (typeof (root._bokeh_timeout) === \"undefined\" || force === true) {\n    root._bokeh_timeout = Date.now() + 5000;\n    root._bokeh_failed_load = false;\n  }\n\n  var NB_LOAD_WARNING = {'data': {'text/html':\n     \"<div style='background-color: #fdd'>\\n\"+\n     \"<p>\\n\"+\n     \"BokehJS does not appear to have successfully loaded. If loading BokehJS from CDN, this \\n\"+\n     \"may be due to a slow or bad network connection. Possible fixes:\\n\"+\n     \"</p>\\n\"+\n     \"<ul>\\n\"+\n     \"<li>re-rerun `output_notebook()` to attempt to load from CDN again, or</li>\\n\"+\n     \"<li>use INLINE resources instead, as so:</li>\\n\"+\n     \"</ul>\\n\"+\n     \"<code>\\n\"+\n     \"from bokeh.resources import INLINE\\n\"+\n     \"output_notebook(resources=INLINE)\\n\"+\n     \"</code>\\n\"+\n     \"</div>\"}};\n\n  function display_loaded() {\n    var el = document.getElementById(\"8d0f0ec8-5ab6-4979-bc1b-9caf0ffca023\");\n    if (el != null) {\n      el.textContent = \"BokehJS is loading...\";\n    }\n    if (root.Bokeh !== undefined) {\n      if (el != null) {\n        el.textContent = \"BokehJS \" + root.Bokeh.version + \" successfully loaded.\";\n      }\n    } else if (Date.now() < root._bokeh_timeout) {\n      setTimeout(display_loaded, 100)\n    }\n  }\n\n\n  function run_callbacks() {\n    try {\n      root._bokeh_onload_callbacks.forEach(function(callback) { callback() });\n    }\n    finally {\n      delete root._bokeh_onload_callbacks\n    }\n    console.info(\"Bokeh: all callbacks have finished\");\n  }\n\n  function load_libs(js_urls, callback) {\n    root._bokeh_onload_callbacks.push(callback);\n    if (root._bokeh_is_loading > 0) {\n      console.log(\"Bokeh: BokehJS is being loaded, scheduling callback at\", now());\n      return null;\n    }\n    if (js_urls == null || js_urls.length === 0) {\n      run_callbacks();\n      return null;\n    }\n    console.log(\"Bokeh: BokehJS not loaded, scheduling load and callback at\", now());\n    root._bokeh_is_loading = js_urls.length;\n    for (var i = 0; i < js_urls.length; i++) {\n      var url = js_urls[i];\n      var s = document.createElement('script');\n      s.src = url;\n      s.async = false;\n      s.onreadystatechange = s.onload = function() {\n        root._bokeh_is_loading--;\n        if (root._bokeh_is_loading === 0) {\n          console.log(\"Bokeh: all BokehJS libraries loaded\");\n          run_callbacks()\n        }\n      };\n      s.onerror = function() {\n        console.warn(\"failed to load library \" + url);\n      };\n      console.log(\"Bokeh: injecting script tag for BokehJS library: \", url);\n      document.getElementsByTagName(\"head\")[0].appendChild(s);\n    }\n  };var element = document.getElementById(\"8d0f0ec8-5ab6-4979-bc1b-9caf0ffca023\");\n  if (element == null) {\n    console.log(\"Bokeh: ERROR: autoload.js configured with elementid '8d0f0ec8-5ab6-4979-bc1b-9caf0ffca023' but no matching script tag was found. \")\n    return false;\n  }\n\n  var js_urls = [\"https://cdn.pydata.org/bokeh/release/bokeh-0.12.9.min.js\", \"https://cdn.pydata.org/bokeh/release/bokeh-widgets-0.12.9.min.js\", \"https://cdn.pydata.org/bokeh/release/bokeh-tables-0.12.9.min.js\", \"https://cdn.pydata.org/bokeh/release/bokeh-gl-0.12.9.min.js\"];\n\n  var inline_js = [\n    function(Bokeh) {\n      Bokeh.set_log_level(\"info\");\n    },\n    \n    function(Bokeh) {\n      \n    },\n    function(Bokeh) {\n      console.log(\"Bokeh: injecting CSS: https://cdn.pydata.org/bokeh/release/bokeh-0.12.9.min.css\");\n      Bokeh.embed.inject_css(\"https://cdn.pydata.org/bokeh/release/bokeh-0.12.9.min.css\");\n      console.log(\"Bokeh: injecting CSS: https://cdn.pydata.org/bokeh/release/bokeh-widgets-0.12.9.min.css\");\n      Bokeh.embed.inject_css(\"https://cdn.pydata.org/bokeh/release/bokeh-widgets-0.12.9.min.css\");\n      console.log(\"Bokeh: injecting CSS: https://cdn.pydata.org/bokeh/release/bokeh-tables-0.12.9.min.css\");\n      Bokeh.embed.inject_css(\"https://cdn.pydata.org/bokeh/release/bokeh-tables-0.12.9.min.css\");\n    }\n  ];\n\n  function run_inline_js() {\n    \n    if ((root.Bokeh !== undefined) || (force === true)) {\n      for (var i = 0; i < inline_js.length; i++) {\n        inline_js[i].call(root, root.Bokeh);\n      }if (force === true) {\n        display_loaded();\n      }} else if (Date.now() < root._bokeh_timeout) {\n      setTimeout(run_inline_js, 100);\n    } else if (!root._bokeh_failed_load) {\n      console.log(\"Bokeh: BokehJS failed to load within specified timeout.\");\n      root._bokeh_failed_load = true;\n    } else if (force !== true) {\n      var cell = $(document.getElementById(\"8d0f0ec8-5ab6-4979-bc1b-9caf0ffca023\")).parents('.cell').data().cell;\n      cell.output_area.append_execute_result(NB_LOAD_WARNING)\n    }\n\n  }\n\n  if (root._bokeh_is_loading === 0) {\n    console.log(\"Bokeh: BokehJS loaded, going straight to plotting\");\n    run_inline_js();\n  } else {\n    load_libs(js_urls, function() {\n      console.log(\"Bokeh: BokehJS plotting callback run at\", now());\n      run_inline_js();\n    });\n  }\n}(window));"
     },
     "metadata": {},
     "output_type": "display_data"
    }
   ],
   "source": [
    "import pandas as pd\n",
    "%matplotlib inline\n",
    "\n",
    "from bokeh.io import output_notebook\n",
    "from bokeh.plotting import figure, show\n",
    "\n",
    "output_notebook()"
   ]
  },
  {
   "cell_type": "code",
   "execution_count": 2,
   "metadata": {
    "extensions": {
     "jupyter_dashboards": {
      "version": 1,
      "views": {
       "grid_default": {
        "col": 8,
        "height": 5,
        "hidden": true,
        "row": 0,
        "width": 4
       },
       "report_default": {
        "hidden": true
       }
      }
     }
    }
   },
   "outputs": [
    {
     "data": {
      "text/plain": [
       "Index(['Method', 'Country', 'State', 'City', 'Status', 'Reason Denied',\n",
       "       'Response Time', 'Content Type', 'Accept Encoding', 'User Agent',\n",
       "       'Unnamed: 11', 'Unnamed: 12'],\n",
       "      dtype='object')"
      ]
     },
     "execution_count": 2,
     "metadata": {},
     "output_type": "execute_result"
    }
   ],
   "source": [
    "# Import API logs data\n",
    "api_logs = pd.read_csv('api_logs.csv', index_col=0, parse_dates=[0])\n",
    "\n",
    "# Take a look at the columns available\n",
    "api_logs.columns"
   ]
  },
  {
   "cell_type": "code",
   "execution_count": 3,
   "metadata": {
    "extensions": {
     "jupyter_dashboards": {
      "version": 1,
      "views": {
       "grid_default": {
        "col": 0,
        "height": 14,
        "hidden": true,
        "row": 11,
        "width": 4
       },
       "report_default": {
        "hidden": true
       }
      }
     }
    }
   },
   "outputs": [
    {
     "name": "stdout",
     "output_type": "stream",
     "text": [
      "DatetimeIndex(['2017-04-25 11:43:48', '2017-04-25 11:43:48',\n",
      "               '2017-04-25 11:43:48', '2017-04-25 11:45:34',\n",
      "               '2017-04-25 11:47:39', '2017-04-25 11:46:01',\n",
      "               '2017-04-25 11:47:20', '2017-04-25 11:46:10',\n",
      "               '2017-04-25 11:46:17', '2017-04-25 11:44:46',\n",
      "               ...\n",
      "               '2017-05-31 07:50:32', '2017-05-31 07:52:05',\n",
      "               '2017-05-31 08:23:18', '2017-05-31 09:55:25',\n",
      "               '2017-05-31 09:53:51', '2017-05-31 09:55:31',\n",
      "               '2017-05-31 10:05:42', '2017-05-31 10:05:50',\n",
      "               '2017-05-31 10:05:50', '2017-05-31 10:09:36'],\n",
      "              dtype='datetime64[ns]', name='Time', length=2912, freq=None)\n"
     ]
    }
   ],
   "source": [
    "# Make sure DataFrame has DatetimeIndex\n",
    "print(api_logs.index)"
   ]
  },
  {
   "cell_type": "code",
   "execution_count": 4,
   "metadata": {
    "extensions": {
     "jupyter_dashboards": {
      "version": 1,
      "views": {
       "grid_default": {
        "col": 0,
        "height": 17,
        "hidden": false,
        "row": 21,
        "width": 12
       },
       "report_default": {
        "hidden": true
       }
      }
     }
    }
   },
   "outputs": [
    {
     "data": {
      "text/html": [
       "<div>\n",
       "<style>\n",
       "    .dataframe thead tr:only-child th {\n",
       "        text-align: right;\n",
       "    }\n",
       "\n",
       "    .dataframe thead th {\n",
       "        text-align: left;\n",
       "    }\n",
       "\n",
       "    .dataframe tbody tr th {\n",
       "        vertical-align: top;\n",
       "    }\n",
       "</style>\n",
       "<table border=\"1\" class=\"dataframe\">\n",
       "  <thead>\n",
       "    <tr style=\"text-align: right;\">\n",
       "      <th></th>\n",
       "      <th>Method</th>\n",
       "      <th>Country</th>\n",
       "      <th>State</th>\n",
       "      <th>City</th>\n",
       "      <th>Status</th>\n",
       "      <th>Reason Denied</th>\n",
       "      <th>Response Time</th>\n",
       "      <th>Content Type</th>\n",
       "      <th>Accept Encoding</th>\n",
       "      <th>User Agent</th>\n",
       "      <th>Unnamed: 11</th>\n",
       "      <th>Unnamed: 12</th>\n",
       "      <th>Outcome</th>\n",
       "    </tr>\n",
       "    <tr>\n",
       "      <th>Time</th>\n",
       "      <th></th>\n",
       "      <th></th>\n",
       "      <th></th>\n",
       "      <th></th>\n",
       "      <th></th>\n",
       "      <th></th>\n",
       "      <th></th>\n",
       "      <th></th>\n",
       "      <th></th>\n",
       "      <th></th>\n",
       "      <th></th>\n",
       "      <th></th>\n",
       "      <th></th>\n",
       "    </tr>\n",
       "  </thead>\n",
       "  <tbody>\n",
       "    <tr>\n",
       "      <th>2017-04-25 11:43:48</th>\n",
       "      <td>GET</td>\n",
       "      <td>RU</td>\n",
       "      <td>38</td>\n",
       "      <td>Krasnodar</td>\n",
       "      <td>200</td>\n",
       "      <td>NaN</td>\n",
       "      <td>305</td>\n",
       "      <td>application/json; charset=utf-8</td>\n",
       "      <td>gzip, deflate, sdch, br</td>\n",
       "      <td>Mozilla/5.0 (Macintosh; Intel Mac OS X 10_12_4...</td>\n",
       "      <td>Chrome</td>\n",
       "      <td>Browser</td>\n",
       "      <td>Success</td>\n",
       "    </tr>\n",
       "    <tr>\n",
       "      <th>2017-04-25 11:43:48</th>\n",
       "      <td>GET</td>\n",
       "      <td>RU</td>\n",
       "      <td>38</td>\n",
       "      <td>Krasnodar</td>\n",
       "      <td>200</td>\n",
       "      <td>NaN</td>\n",
       "      <td>383</td>\n",
       "      <td>application/json; charset=utf-8</td>\n",
       "      <td>gzip, deflate, sdch, br</td>\n",
       "      <td>Mozilla/5.0 (Macintosh; Intel Mac OS X 10_12_4...</td>\n",
       "      <td>Chrome</td>\n",
       "      <td>Browser</td>\n",
       "      <td>Success</td>\n",
       "    </tr>\n",
       "    <tr>\n",
       "      <th>2017-04-25 11:43:48</th>\n",
       "      <td>GET</td>\n",
       "      <td>RU</td>\n",
       "      <td>38</td>\n",
       "      <td>Krasnodar</td>\n",
       "      <td>200</td>\n",
       "      <td>NaN</td>\n",
       "      <td>25</td>\n",
       "      <td>application/json; charset=utf-8</td>\n",
       "      <td>gzip, deflate, sdch, br</td>\n",
       "      <td>Mozilla/5.0 (Macintosh; Intel Mac OS X 10_12_4...</td>\n",
       "      <td>Chrome</td>\n",
       "      <td>Browser</td>\n",
       "      <td>Success</td>\n",
       "    </tr>\n",
       "    <tr>\n",
       "      <th>2017-04-25 11:45:34</th>\n",
       "      <td>GET</td>\n",
       "      <td>RU</td>\n",
       "      <td>38</td>\n",
       "      <td>Krasnodar</td>\n",
       "      <td>200</td>\n",
       "      <td>NaN</td>\n",
       "      <td>67</td>\n",
       "      <td>application/json; charset=utf-8</td>\n",
       "      <td>gzip, deflate, sdch, br</td>\n",
       "      <td>Mozilla/5.0 (Macintosh; Intel Mac OS X 10_12_4...</td>\n",
       "      <td>Chrome</td>\n",
       "      <td>Browser</td>\n",
       "      <td>Success</td>\n",
       "    </tr>\n",
       "    <tr>\n",
       "      <th>2017-04-25 11:47:39</th>\n",
       "      <td>GET</td>\n",
       "      <td>RU</td>\n",
       "      <td>38</td>\n",
       "      <td>Krasnodar</td>\n",
       "      <td>200</td>\n",
       "      <td>NaN</td>\n",
       "      <td>45</td>\n",
       "      <td>application/json; charset=utf-8</td>\n",
       "      <td>gzip, deflate, sdch, br</td>\n",
       "      <td>Mozilla/5.0 (Macintosh; Intel Mac OS X 10_12_4...</td>\n",
       "      <td>Chrome</td>\n",
       "      <td>Browser</td>\n",
       "      <td>Success</td>\n",
       "    </tr>\n",
       "  </tbody>\n",
       "</table>\n",
       "</div>"
      ],
      "text/plain": [
       "                    Method Country State       City  Status  Reason Denied  \\\n",
       "Time                                                                         \n",
       "2017-04-25 11:43:48    GET      RU    38  Krasnodar     200            NaN   \n",
       "2017-04-25 11:43:48    GET      RU    38  Krasnodar     200            NaN   \n",
       "2017-04-25 11:43:48    GET      RU    38  Krasnodar     200            NaN   \n",
       "2017-04-25 11:45:34    GET      RU    38  Krasnodar     200            NaN   \n",
       "2017-04-25 11:47:39    GET      RU    38  Krasnodar     200            NaN   \n",
       "\n",
       "                     Response Time                     Content Type  \\\n",
       "Time                                                                  \n",
       "2017-04-25 11:43:48            305  application/json; charset=utf-8   \n",
       "2017-04-25 11:43:48            383  application/json; charset=utf-8   \n",
       "2017-04-25 11:43:48             25  application/json; charset=utf-8   \n",
       "2017-04-25 11:45:34             67  application/json; charset=utf-8   \n",
       "2017-04-25 11:47:39             45  application/json; charset=utf-8   \n",
       "\n",
       "                             Accept Encoding  \\\n",
       "Time                                           \n",
       "2017-04-25 11:43:48  gzip, deflate, sdch, br   \n",
       "2017-04-25 11:43:48  gzip, deflate, sdch, br   \n",
       "2017-04-25 11:43:48  gzip, deflate, sdch, br   \n",
       "2017-04-25 11:45:34  gzip, deflate, sdch, br   \n",
       "2017-04-25 11:47:39  gzip, deflate, sdch, br   \n",
       "\n",
       "                                                            User Agent  \\\n",
       "Time                                                                     \n",
       "2017-04-25 11:43:48  Mozilla/5.0 (Macintosh; Intel Mac OS X 10_12_4...   \n",
       "2017-04-25 11:43:48  Mozilla/5.0 (Macintosh; Intel Mac OS X 10_12_4...   \n",
       "2017-04-25 11:43:48  Mozilla/5.0 (Macintosh; Intel Mac OS X 10_12_4...   \n",
       "2017-04-25 11:45:34  Mozilla/5.0 (Macintosh; Intel Mac OS X 10_12_4...   \n",
       "2017-04-25 11:47:39  Mozilla/5.0 (Macintosh; Intel Mac OS X 10_12_4...   \n",
       "\n",
       "                    Unnamed: 11 Unnamed: 12  Outcome  \n",
       "Time                                                  \n",
       "2017-04-25 11:43:48      Chrome     Browser  Success  \n",
       "2017-04-25 11:43:48      Chrome     Browser  Success  \n",
       "2017-04-25 11:43:48      Chrome     Browser  Success  \n",
       "2017-04-25 11:45:34      Chrome     Browser  Success  \n",
       "2017-04-25 11:47:39      Chrome     Browser  Success  "
      ]
     },
     "execution_count": 4,
     "metadata": {},
     "output_type": "execute_result"
    }
   ],
   "source": [
    "def is_success_function(row):\n",
    "    \"\"\"\n",
    "    Check if row (request) was successful\n",
    "    Successful means a response with 2xx status\n",
    "    \n",
    "    return True if successful False otherwise\n",
    "    \"\"\"\n",
    "    success = (row['Status'] >= 200 and row['Status'] < 300)\n",
    "    \n",
    "    if success:\n",
    "        return 'Success'\n",
    "    else:\n",
    "        return 'Failure'\n",
    "    \n",
    "# Add 'Success' column to API Logs\n",
    "# Success is determined by status code, where any status in the 200s is considered successful\n",
    "api_logs['Outcome'] = api_logs.apply(is_success_function , axis='columns')\n",
    "api_logs.head()"
   ]
  },
  {
   "cell_type": "code",
   "execution_count": 5,
   "metadata": {
    "collapsed": true,
    "extensions": {
     "jupyter_dashboards": {
      "version": 1,
      "views": {
       "grid_default": {
        "hidden": true
       },
       "report_default": {
        "hidden": true
       }
      }
     }
    }
   },
   "outputs": [],
   "source": [
    "# Export CSV containing Outcome column\n",
    "api_logs.to_csv('api_logs_with_outcome.csv')"
   ]
  },
  {
   "cell_type": "markdown",
   "metadata": {
    "extensions": {
     "jupyter_dashboards": {
      "version": 1,
      "views": {
       "grid_default": {
        "col": 4,
        "height": 4,
        "hidden": true,
        "row": 4,
        "width": 4
       },
       "report_default": {
        "hidden": true
       }
      }
     }
    }
   },
   "source": [
    "# Explore\n",
    "Get a feel for the data."
   ]
  },
  {
   "cell_type": "code",
   "execution_count": 6,
   "metadata": {
    "extensions": {
     "jupyter_dashboards": {
      "version": 1,
      "views": {
       "grid_default": {
        "col": 0,
        "height": 11,
        "hidden": false,
        "row": 10,
        "width": 4
       },
       "report_default": {
        "hidden": false
       }
      }
     }
    }
   },
   "outputs": [
    {
     "data": {
      "image/png": "[encoded data removed]",
      "text/plain": [
       "<matplotlib.figure.Figure at 0x7f07fcb89710>"
      ]
     },
     "metadata": {},
     "output_type": "display_data"
    }
   ],
   "source": [
    "# Check the distribution of statuses in the data\n",
    "api_response_code_distributions_plot = api_logs['Status'].value_counts().plot('bar', title='Response code counts')"
   ]
  },
  {
   "cell_type": "code",
   "execution_count": 7,
   "metadata": {
    "extensions": {
     "jupyter_dashboards": {
      "version": 1,
      "views": {
       "grid_default": {
        "col": 8,
        "height": 11,
        "hidden": false,
        "row": 10,
        "width": 4
       },
       "report_default": {
        "hidden": false
       }
      }
     }
    }
   },
   "outputs": [
    {
     "data": {
      "image/png": "[encoded data removed]",
      "text/plain": [
       "<matplotlib.figure.Figure at 0x7f07faa26978>"
      ]
     },
     "metadata": {},
     "output_type": "display_data"
    }
   ],
   "source": [
    "# Compare number of successful versus unsuccessful requests\n",
    "success_versus_failure = api_logs.groupby('Outcome').size().plot('bar', title='Successful versus unsuccessful requests')"
   ]
  },
  {
   "cell_type": "code",
   "execution_count": 8,
   "metadata": {
    "extensions": {
     "jupyter_dashboards": {
      "version": 1,
      "views": {
       "grid_default": {
        "col": 4,
        "height": 5,
        "hidden": true,
        "row": 4,
        "width": 4
       },
       "report_default": {
        "hidden": true
       }
      }
     }
    }
   },
   "outputs": [
    {
     "data": {
      "text/plain": [
       "            Outcome\n",
       "2017-04-22  Success     7\n",
       "2017-04-24  Failure    32\n",
       "            Success    59\n",
       "2017-04-25  Failure    23\n",
       "            Success    91\n",
       "dtype: int64"
      ]
     },
     "execution_count": 8,
     "metadata": {},
     "output_type": "execute_result"
    }
   ],
   "source": [
    "# Group API logs by date and outcome\n",
    "daily_failure_success_groups = api_logs.groupby([api_logs.index.date, 'Outcome']).size()\n",
    "\n",
    "# Take a look at the grouped data\n",
    "daily_failure_success_groups.head()"
   ]
  },
  {
   "cell_type": "code",
   "execution_count": 9,
   "metadata": {
    "extensions": {
     "jupyter_dashboards": {
      "version": 1,
      "views": {
       "grid_default": {
        "col": 4,
        "height": 7,
        "hidden": true,
        "row": 28,
        "width": 4
       },
       "report_default": {
        "hidden": true
       }
      }
     }
    }
   },
   "outputs": [
    {
     "data": {
      "text/html": [
       "<div>\n",
       "<style>\n",
       "    .dataframe thead tr:only-child th {\n",
       "        text-align: right;\n",
       "    }\n",
       "\n",
       "    .dataframe thead th {\n",
       "        text-align: left;\n",
       "    }\n",
       "\n",
       "    .dataframe tbody tr th {\n",
       "        vertical-align: top;\n",
       "    }\n",
       "</style>\n",
       "<table border=\"1\" class=\"dataframe\">\n",
       "  <thead>\n",
       "    <tr style=\"text-align: right;\">\n",
       "      <th>Outcome</th>\n",
       "      <th>Failure</th>\n",
       "      <th>Success</th>\n",
       "    </tr>\n",
       "  </thead>\n",
       "  <tbody>\n",
       "    <tr>\n",
       "      <th>2017-04-22</th>\n",
       "      <td>0</td>\n",
       "      <td>7</td>\n",
       "    </tr>\n",
       "    <tr>\n",
       "      <th>2017-04-24</th>\n",
       "      <td>32</td>\n",
       "      <td>59</td>\n",
       "    </tr>\n",
       "    <tr>\n",
       "      <th>2017-04-25</th>\n",
       "      <td>23</td>\n",
       "      <td>91</td>\n",
       "    </tr>\n",
       "    <tr>\n",
       "      <th>2017-04-26</th>\n",
       "      <td>1</td>\n",
       "      <td>59</td>\n",
       "    </tr>\n",
       "    <tr>\n",
       "      <th>2017-04-27</th>\n",
       "      <td>3</td>\n",
       "      <td>1</td>\n",
       "    </tr>\n",
       "  </tbody>\n",
       "</table>\n",
       "</div>"
      ],
      "text/plain": [
       "Outcome     Failure  Success\n",
       "2017-04-22        0        7\n",
       "2017-04-24       32       59\n",
       "2017-04-25       23       91\n",
       "2017-04-26        1       59\n",
       "2017-04-27        3        1"
      ]
     },
     "execution_count": 9,
     "metadata": {},
     "output_type": "execute_result"
    }
   ],
   "source": [
    "# Flatten grouped data, so each row has a failure and success column\n",
    "# Replace NaN numbers with zero (fill_value=0)\n",
    "success_and_failure_over_time = daily_failure_success_groups.unstack(fill_value=0)\n",
    "\n",
    "# Take a look at the unstacked data\n",
    "success_and_failure_over_time.head()"
   ]
  },
  {
   "cell_type": "code",
   "execution_count": 10,
   "metadata": {
    "extensions": {
     "jupyter_dashboards": {
      "version": 1,
      "views": {
       "grid_default": {
        "col": 4,
        "height": 10,
        "hidden": false,
        "row": 10,
        "width": 4
       },
       "report_default": {
        "hidden": false
       }
      }
     }
    }
   },
   "outputs": [
    {
     "data": {
      "image/png": "[encoded data removed]",
      "text/plain": [
       "<matplotlib.figure.Figure at 0x7f07fa923b70>"
      ]
     },
     "metadata": {},
     "output_type": "display_data"
    }
   ],
   "source": [
    "# Plot success and failure countes over time\n",
    "success_and_failure_chart = success_and_failure_over_time.plot(rot=45)"
   ]
  },
  {
   "cell_type": "code",
   "execution_count": 14,
   "metadata": {
    "extensions": {
     "jupyter_dashboards": {
      "version": 1,
      "views": {
       "grid_default": {
        "col": 0,
        "height": 10,
        "hidden": false,
        "row": 0,
        "width": 12
       },
       "report_default": {
        "hidden": false
       }
      }
     }
    }
   },
   "outputs": [
    {
     "data": {
      "text/html": [
       "\n",
       "<div class=\"bk-root\">\n",
       "    <div class=\"bk-plotdiv\" id=\"66e29672-afb4-4ce2-a6b2-48ff5375db1f\"></div>\n",
       "</div>"
      ]
     },
     "metadata": {},
     "output_type": "display_data"
    },
    {
     "data": {
      "application/javascript": [
       "(function(root) {\n",
       "  function embed_document(root) {\n",
       "    var docs_json = {\"c465ad6f-bea0-4e45-8d16-3c60b9cef9ef\":{\"roots\":{\"references\":[{\"attributes\":{\"source\":{\"id\":\"ddd49173-ee7f-4cc2-8c81-991115c35797\",\"type\":\"ColumnDataSource\"}},\"id\":\"0635b0f9-ad41-4491-b27a-0b8a070aa20c\",\"type\":\"CDSView\"},{\"attributes\":{\"line_alpha\":{\"value\":0.1},\"line_color\":{\"value\":\"#1f77b4\"},\"x\":{\"field\":\"x\"},\"y\":{\"field\":\"y\"}},\"id\":\"faa4b52d-eeb6-46d9-9b10-2539116a821a\",\"type\":\"Line\"},{\"attributes\":{\"formatter\":{\"id\":\"6bf5776c-8218-4c4b-9670-8a917263770a\",\"type\":\"BasicTickFormatter\"},\"plot\":{\"id\":\"4c547935-d462-44c2-8ded-902709f42596\",\"subtype\":\"Figure\",\"type\":\"Plot\"},\"ticker\":{\"id\":\"f2efa47d-05e2-4916-8e73-e23cc51bd979\",\"type\":\"BasicTicker\"}},\"id\":\"25543aad-ace7-416c-ac79-9e1080c44dc6\",\"type\":\"LinearAxis\"},{\"attributes\":{},\"id\":\"f2efa47d-05e2-4916-8e73-e23cc51bd979\",\"type\":\"BasicTicker\"},{\"attributes\":{\"source\":{\"id\":\"962207a4-f99c-4226-be84-de8ec95bb99d\",\"type\":\"ColumnDataSource\"}},\"id\":\"e6057d98-e745-4a44-b4e5-62b0974da00a\",\"type\":\"CDSView\"},{\"attributes\":{\"data_source\":{\"id\":\"962207a4-f99c-4226-be84-de8ec95bb99d\",\"type\":\"ColumnDataSource\"},\"glyph\":{\"id\":\"8644cc3c-e8a8-4213-b836-3fee421d77ff\",\"type\":\"Line\"},\"hover_glyph\":null,\"muted_glyph\":null,\"nonselection_glyph\":{\"id\":\"faa4b52d-eeb6-46d9-9b10-2539116a821a\",\"type\":\"Line\"},\"selection_glyph\":null,\"view\":{\"id\":\"e6057d98-e745-4a44-b4e5-62b0974da00a\",\"type\":\"CDSView\"}},\"id\":\"f2edef5e-4e51-4aa5-9b0f-18be16921fb2\",\"type\":\"GlyphRenderer\"},{\"attributes\":{\"bottom_units\":\"screen\",\"fill_alpha\":{\"value\":0.5},\"fill_color\":{\"value\":\"lightgrey\"},\"left_units\":\"screen\",\"level\":\"overlay\",\"line_alpha\":{\"value\":1.0},\"line_color\":{\"value\":\"black\"},\"line_dash\":[4,4],\"line_width\":{\"value\":2},\"plot\":null,\"render_mode\":\"css\",\"right_units\":\"screen\",\"top_units\":\"screen\"},\"id\":\"74f04615-c633-4c21-b2ac-50a26ea015b0\",\"type\":\"BoxAnnotation\"},{\"attributes\":{\"dimension\":1,\"plot\":{\"id\":\"4c547935-d462-44c2-8ded-902709f42596\",\"subtype\":\"Figure\",\"type\":\"Plot\"},\"ticker\":{\"id\":\"f2efa47d-05e2-4916-8e73-e23cc51bd979\",\"type\":\"BasicTicker\"}},\"id\":\"02d25f96-4fc2-4cb3-9faa-5acbf986e6e0\",\"type\":\"Grid\"},{\"attributes\":{},\"id\":\"e32fc300-a2ce-4c60-b63e-39be57a0e885\",\"type\":\"PanTool\"},{\"attributes\":{\"days\":[1,2,3,4,5,6,7,8,9,10,11,12,13,14,15,16,17,18,19,20,21,22,23,24,25,26,27,28,29,30,31]},\"id\":\"fe417097-e51e-4be9-b7b3-a097af16256d\",\"type\":\"DaysTicker\"},{\"attributes\":{},\"id\":\"093f0570-4a08-45be-be0c-5b17032ad331\",\"type\":\"WheelZoomTool\"},{\"attributes\":{\"overlay\":{\"id\":\"74f04615-c633-4c21-b2ac-50a26ea015b0\",\"type\":\"BoxAnnotation\"}},\"id\":\"c0ee54f7-39db-4b37-afa4-df1f2a69716a\",\"type\":\"BoxZoomTool\"},{\"attributes\":{},\"id\":\"8dc4f96f-af26-42ca-8660-3b99664921c6\",\"type\":\"SaveTool\"},{\"attributes\":{},\"id\":\"7d04a9bc-e3ce-4ef5-a8e3-4055d60a5295\",\"type\":\"ResetTool\"},{\"attributes\":{},\"id\":\"b0afe722-0c3a-4aa0-92e2-3136045d2041\",\"type\":\"HelpTool\"},{\"attributes\":{\"base\":24,\"mantissas\":[1,2,4,6,8,12],\"max_interval\":43200000.0,\"min_interval\":3600000.0,\"num_minor_ticks\":0},\"id\":\"87335132-c39d-4444-a976-cde917471aeb\",\"type\":\"AdaptiveTicker\"},{\"attributes\":{},\"id\":\"f6c95a6f-684b-4a8a-a83a-876d75f03ac2\",\"type\":\"DatetimeTickFormatter\"},{\"attributes\":{},\"id\":\"6bf5776c-8218-4c4b-9670-8a917263770a\",\"type\":\"BasicTickFormatter\"},{\"attributes\":{\"mantissas\":[1,2,5],\"max_interval\":500.0,\"num_minor_ticks\":0},\"id\":\"9cc8aeb6-cbe4-485f-b025-67dae4199d0f\",\"type\":\"AdaptiveTicker\"},{\"attributes\":{\"days\":[1,15]},\"id\":\"9d9134b4-916a-4221-936c-54637865deb7\",\"type\":\"DaysTicker\"},{\"attributes\":{\"line_alpha\":{\"value\":0.5},\"line_color\":{\"value\":\"red\"},\"x\":{\"field\":\"x\"},\"y\":{\"field\":\"y\"}},\"id\":\"8644cc3c-e8a8-4213-b836-3fee421d77ff\",\"type\":\"Line\"},{\"attributes\":{\"base\":60,\"mantissas\":[1,2,5,10,15,20,30],\"max_interval\":1800000.0,\"min_interval\":1000.0,\"num_minor_ticks\":0},\"id\":\"3bd7e528-40e4-4ea3-acbd-eebcc30b7f9e\",\"type\":\"AdaptiveTicker\"},{\"attributes\":{\"line_alpha\":{\"value\":0.5},\"line_color\":{\"value\":\"green\"},\"x\":{\"field\":\"x\"},\"y\":{\"field\":\"y\"}},\"id\":\"3597cab9-23a6-428d-8992-fbc2f71c9209\",\"type\":\"Line\"},{\"attributes\":{\"days\":[1,8,15,22]},\"id\":\"94913c96-cc29-4347-b4cf-330a732c3dce\",\"type\":\"DaysTicker\"},{\"attributes\":{\"days\":[1,4,7,10,13,16,19,22,25,28]},\"id\":\"b8286aad-7d09-41e0-87f7-97ce56505af6\",\"type\":\"DaysTicker\"},{\"attributes\":{\"formatter\":{\"id\":\"f6c95a6f-684b-4a8a-a83a-876d75f03ac2\",\"type\":\"DatetimeTickFormatter\"},\"plot\":{\"id\":\"4c547935-d462-44c2-8ded-902709f42596\",\"subtype\":\"Figure\",\"type\":\"Plot\"},\"ticker\":{\"id\":\"3beb1ac9-4851-4fb1-bf85-89b631a985f0\",\"type\":\"DatetimeTicker\"}},\"id\":\"ff9b8cfd-4c3e-4270-9b9f-59eec64cbd08\",\"type\":\"DatetimeAxis\"},{\"attributes\":{\"months\":[0,1,2,3,4,5,6,7,8,9,10,11]},\"id\":\"edbb83f3-94d9-472b-a1ac-e30df9a8f747\",\"type\":\"MonthsTicker\"},{\"attributes\":{\"months\":[0,2,4,6,8,10]},\"id\":\"66d0ab4d-7e13-49f6-b6fa-ad5d9689048b\",\"type\":\"MonthsTicker\"},{\"attributes\":{\"callback\":null,\"column_names\":[\"x\",\"y\"],\"data\":{\"x\":[1492819200000.0,1492992000000.0,1493078400000.0,1493164800000.0,1493251200000.0,1493337600000.0,1493424000000.0,1493769600000.0,1493856000000.0,1493942400000.0,1494201600000.0,1494288000000.0,1494374400000.0,1494460800000.0,1494547200000.0,1494806400000.0,1494892800000.0,1494979200000.0,1495065600000.0,1495152000000.0,1495238400000.0,1495324800000.0,1495411200000.0,1495497600000.0,1495584000000.0,1495670400000.0,1495756800000.0,1495843200000.0,1495929600000.0,1496016000000.0,1496102400000.0,1496188800000.0,1496275200000.0,1496361600000.0,1496448000000.0,1496620800000.0,1496707200000.0,1496793600000.0,1497052800000.0,1497225600000.0,1497398400000.0,1497484800000.0,1497571200000.0,1497657600000.0,1497744000000.0,1497830400000.0,1497916800000.0,1498003200000.0,1498089600000.0,1498348800000.0,1498435200000.0,1498521600000.0,1498608000000.0,1498694400000.0,1499040000000.0,1499212800000.0,1499299200000.0,1499385600000.0,1499558400000.0,1499644800000.0,1499731200000.0,1499817600000.0,1499904000000.0,1499990400000.0,1500249600000.0,1500336000000.0,1500508800000.0,1500768000000.0,1500854400000.0,1501027200000.0,1501459200000.0,1501891200000.0,1502064000000.0,1502150400000.0,1502236800000.0,1502582400000.0,1502668800000.0,1502841600000.0,1502928000000.0,1503187200000.0,1503360000000.0,1503446400000.0,1503532800000.0,1503619200000.0,1503705600000.0,1503792000000.0,1503878400000.0,1504137600000.0],\"y\":[0,32,23,1,3,1,0,38,6,0,3,2,0,6,0,2,0,0,1,0,0,0,3,11,3,192,1,3,1,73,102,11,4,2,3,6,1,2,1,1,9,20,6,2,2,3,1,17,5,0,8,7,2,1,0,4,1,1,1,6,1,16,0,3,5,1,0,0,0,0,0,2,1,0,0,8,1,0,2,1,3,3,0,0,1,0,0,0]}},\"id\":\"962207a4-f99c-4226-be84-de8ec95bb99d\",\"type\":\"ColumnDataSource\"},{\"attributes\":{\"months\":[0,4,8]},\"id\":\"35d7280f-86f9-4b5c-a79c-b15959ae4154\",\"type\":\"MonthsTicker\"},{\"attributes\":{\"plot\":null,\"text\":\"Success and failure over time\"},\"id\":\"8c2043f5-9e8e-4909-8a47-d5b8742deaf3\",\"type\":\"Title\"},{\"attributes\":{\"months\":[0,6]},\"id\":\"9ed70989-998d-434e-a521-692d52b049ca\",\"type\":\"MonthsTicker\"},{\"attributes\":{},\"id\":\"c195253c-33af-44ad-837c-31a82d468ead\",\"type\":\"LinearScale\"},{\"attributes\":{},\"id\":\"4cac9e54-a376-478c-bdc9-215e8f2a2367\",\"type\":\"YearsTicker\"},{\"attributes\":{},\"id\":\"4d9a2a71-a035-4855-bff7-49cb14508db2\",\"type\":\"LinearScale\"},{\"attributes\":{\"num_minor_ticks\":5,\"tickers\":[{\"id\":\"9cc8aeb6-cbe4-485f-b025-67dae4199d0f\",\"type\":\"AdaptiveTicker\"},{\"id\":\"3bd7e528-40e4-4ea3-acbd-eebcc30b7f9e\",\"type\":\"AdaptiveTicker\"},{\"id\":\"87335132-c39d-4444-a976-cde917471aeb\",\"type\":\"AdaptiveTicker\"},{\"id\":\"fe417097-e51e-4be9-b7b3-a097af16256d\",\"type\":\"DaysTicker\"},{\"id\":\"b8286aad-7d09-41e0-87f7-97ce56505af6\",\"type\":\"DaysTicker\"},{\"id\":\"94913c96-cc29-4347-b4cf-330a732c3dce\",\"type\":\"DaysTicker\"},{\"id\":\"9d9134b4-916a-4221-936c-54637865deb7\",\"type\":\"DaysTicker\"},{\"id\":\"edbb83f3-94d9-472b-a1ac-e30df9a8f747\",\"type\":\"MonthsTicker\"},{\"id\":\"66d0ab4d-7e13-49f6-b6fa-ad5d9689048b\",\"type\":\"MonthsTicker\"},{\"id\":\"35d7280f-86f9-4b5c-a79c-b15959ae4154\",\"type\":\"MonthsTicker\"},{\"id\":\"9ed70989-998d-434e-a521-692d52b049ca\",\"type\":\"MonthsTicker\"},{\"id\":\"4cac9e54-a376-478c-bdc9-215e8f2a2367\",\"type\":\"YearsTicker\"}]},\"id\":\"3beb1ac9-4851-4fb1-bf85-89b631a985f0\",\"type\":\"DatetimeTicker\"},{\"attributes\":{\"active_drag\":\"auto\",\"active_inspect\":\"auto\",\"active_scroll\":\"auto\",\"active_tap\":\"auto\",\"tools\":[{\"id\":\"e32fc300-a2ce-4c60-b63e-39be57a0e885\",\"type\":\"PanTool\"},{\"id\":\"093f0570-4a08-45be-be0c-5b17032ad331\",\"type\":\"WheelZoomTool\"},{\"id\":\"c0ee54f7-39db-4b37-afa4-df1f2a69716a\",\"type\":\"BoxZoomTool\"},{\"id\":\"8dc4f96f-af26-42ca-8660-3b99664921c6\",\"type\":\"SaveTool\"},{\"id\":\"7d04a9bc-e3ce-4ef5-a8e3-4055d60a5295\",\"type\":\"ResetTool\"},{\"id\":\"b0afe722-0c3a-4aa0-92e2-3136045d2041\",\"type\":\"HelpTool\"}]},\"id\":\"6275a65c-cabb-4c49-b0e2-193a4d3916f9\",\"type\":\"Toolbar\"},{\"attributes\":{\"callback\":null},\"id\":\"6c97295e-5545-433e-9fa1-1f08180ccdee\",\"type\":\"DataRange1d\"},{\"attributes\":{\"callback\":null},\"id\":\"2d814853-f276-41af-8399-44a276b07a36\",\"type\":\"DataRange1d\"},{\"attributes\":{\"line_alpha\":{\"value\":0.1},\"line_color\":{\"value\":\"#1f77b4\"},\"x\":{\"field\":\"x\"},\"y\":{\"field\":\"y\"}},\"id\":\"8db339d1-ed35-4027-a448-2876e70e724b\",\"type\":\"Line\"},{\"attributes\":{\"callback\":null,\"column_names\":[\"x\",\"y\"],\"data\":{\"x\":[1492819200000.0,1492992000000.0,1493078400000.0,1493164800000.0,1493251200000.0,1493337600000.0,1493424000000.0,1493769600000.0,1493856000000.0,1493942400000.0,1494201600000.0,1494288000000.0,1494374400000.0,1494460800000.0,1494547200000.0,1494806400000.0,1494892800000.0,1494979200000.0,1495065600000.0,1495152000000.0,1495238400000.0,1495324800000.0,1495411200000.0,1495497600000.0,1495584000000.0,1495670400000.0,1495756800000.0,1495843200000.0,1495929600000.0,1496016000000.0,1496102400000.0,1496188800000.0,1496275200000.0,1496361600000.0,1496448000000.0,1496620800000.0,1496707200000.0,1496793600000.0,1497052800000.0,1497225600000.0,1497398400000.0,1497484800000.0,1497571200000.0,1497657600000.0,1497744000000.0,1497830400000.0,1497916800000.0,1498003200000.0,1498089600000.0,1498348800000.0,1498435200000.0,1498521600000.0,1498608000000.0,1498694400000.0,1499040000000.0,1499212800000.0,1499299200000.0,1499385600000.0,1499558400000.0,1499644800000.0,1499731200000.0,1499817600000.0,1499904000000.0,1499990400000.0,1500249600000.0,1500336000000.0,1500508800000.0,1500768000000.0,1500854400000.0,1501027200000.0,1501459200000.0,1501891200000.0,1502064000000.0,1502150400000.0,1502236800000.0,1502582400000.0,1502668800000.0,1502841600000.0,1502928000000.0,1503187200000.0,1503360000000.0,1503446400000.0,1503532800000.0,1503619200000.0,1503705600000.0,1503792000000.0,1503878400000.0,1504137600000.0],\"y\":[7,59,91,59,1,2,3,0,727,1,6,2,1,32,62,47,23,29,65,12,3,5,96,15,232,187,4,2,4,137,10,42,6,0,0,21,1,1,1,0,2,2,17,1,2,2,0,3,0,1,13,25,8,1,1,3,1,4,1,4,0,28,2,2,8,2,1,1,1,1,1,3,1,2,1,0,4,6,3,14,47,2,5,2,3,1,1,1]}},\"id\":\"ddd49173-ee7f-4cc2-8c81-991115c35797\",\"type\":\"ColumnDataSource\"},{\"attributes\":{\"data_source\":{\"id\":\"ddd49173-ee7f-4cc2-8c81-991115c35797\",\"type\":\"ColumnDataSource\"},\"glyph\":{\"id\":\"3597cab9-23a6-428d-8992-fbc2f71c9209\",\"type\":\"Line\"},\"hover_glyph\":null,\"muted_glyph\":null,\"nonselection_glyph\":{\"id\":\"8db339d1-ed35-4027-a448-2876e70e724b\",\"type\":\"Line\"},\"selection_glyph\":null,\"view\":{\"id\":\"0635b0f9-ad41-4491-b27a-0b8a070aa20c\",\"type\":\"CDSView\"}},\"id\":\"17212ebe-7cda-4555-9127-5efccf58548c\",\"type\":\"GlyphRenderer\"},{\"attributes\":{\"below\":[{\"id\":\"ff9b8cfd-4c3e-4270-9b9f-59eec64cbd08\",\"type\":\"DatetimeAxis\"}],\"left\":[{\"id\":\"25543aad-ace7-416c-ac79-9e1080c44dc6\",\"type\":\"LinearAxis\"}],\"plot_height\":250,\"plot_width\":800,\"renderers\":[{\"id\":\"ff9b8cfd-4c3e-4270-9b9f-59eec64cbd08\",\"type\":\"DatetimeAxis\"},{\"id\":\"5233b7af-5b72-483b-80d6-c338fdb324fd\",\"type\":\"Grid\"},{\"id\":\"25543aad-ace7-416c-ac79-9e1080c44dc6\",\"type\":\"LinearAxis\"},{\"id\":\"02d25f96-4fc2-4cb3-9faa-5acbf986e6e0\",\"type\":\"Grid\"},{\"id\":\"74f04615-c633-4c21-b2ac-50a26ea015b0\",\"type\":\"BoxAnnotation\"},{\"id\":\"f2edef5e-4e51-4aa5-9b0f-18be16921fb2\",\"type\":\"GlyphRenderer\"},{\"id\":\"17212ebe-7cda-4555-9127-5efccf58548c\",\"type\":\"GlyphRenderer\"}],\"title\":{\"id\":\"8c2043f5-9e8e-4909-8a47-d5b8742deaf3\",\"type\":\"Title\"},\"toolbar\":{\"id\":\"6275a65c-cabb-4c49-b0e2-193a4d3916f9\",\"type\":\"Toolbar\"},\"x_range\":{\"id\":\"6c97295e-5545-433e-9fa1-1f08180ccdee\",\"type\":\"DataRange1d\"},\"x_scale\":{\"id\":\"c195253c-33af-44ad-837c-31a82d468ead\",\"type\":\"LinearScale\"},\"y_range\":{\"id\":\"2d814853-f276-41af-8399-44a276b07a36\",\"type\":\"DataRange1d\"},\"y_scale\":{\"id\":\"4d9a2a71-a035-4855-bff7-49cb14508db2\",\"type\":\"LinearScale\"}},\"id\":\"4c547935-d462-44c2-8ded-902709f42596\",\"subtype\":\"Figure\",\"type\":\"Plot\"},{\"attributes\":{\"plot\":{\"id\":\"4c547935-d462-44c2-8ded-902709f42596\",\"subtype\":\"Figure\",\"type\":\"Plot\"},\"ticker\":{\"id\":\"3beb1ac9-4851-4fb1-bf85-89b631a985f0\",\"type\":\"DatetimeTicker\"}},\"id\":\"5233b7af-5b72-483b-80d6-c338fdb324fd\",\"type\":\"Grid\"}],\"root_ids\":[\"4c547935-d462-44c2-8ded-902709f42596\"]},\"title\":\"Bokeh Application\",\"version\":\"0.12.9\"}};\n",
       "    var render_items = [{\"docid\":\"c465ad6f-bea0-4e45-8d16-3c60b9cef9ef\",\"elementid\":\"66e29672-afb4-4ce2-a6b2-48ff5375db1f\",\"modelid\":\"4c547935-d462-44c2-8ded-902709f42596\"}];\n",
       "\n",
       "    root.Bokeh.embed.embed_items(docs_json, render_items);\n",
       "  }\n",
       "\n",
       "  if (root.Bokeh !== undefined) {\n",
       "    embed_document(root);\n",
       "  } else {\n",
       "    var attempts = 0;\n",
       "    var timer = setInterval(function(root) {\n",
       "      if (root.Bokeh !== undefined) {\n",
       "        embed_document(root);\n",
       "        clearInterval(timer);\n",
       "      }\n",
       "      attempts++;\n",
       "      if (attempts > 100) {\n",
       "        console.log(\"Bokeh: ERROR: Unable to embed document because BokehJS library is missing\")\n",
       "        clearInterval(timer);\n",
       "      }\n",
       "    }, 10, root)\n",
       "  }\n",
       "})(window);"
      ],
      "application/vnd.bokehjs_exec.v0+json": ""
     },
     "metadata": {
      "application/vnd.bokehjs_exec.v0+json": {
       "id": "4c547935-d462-44c2-8ded-902709f42596"
      }
     },
     "output_type": "display_data"
    }
   ],
   "source": [
    "# create a new plot with a datetime axis type\n",
    "p = figure(plot_width=800, plot_height=250, x_axis_type=\"datetime\", title=\"Success and failure over time\")\n",
    "\n",
    "# Add red line showing failure\n",
    "p.line(success_and_failure_over_time.index, success_and_failure_over_time['Failure'], color='red', alpha=0.5)\n",
    "\n",
    "# Add green line showing success\n",
    "p.line(success_and_failure_over_time.index, success_and_failure_over_time['Success'], color='green', alpha=0.5)\n",
    "\n",
    "\n",
    "# Show the plot\n",
    "show(p)"
   ]
  },
  {
   "cell_type": "code",
   "execution_count": null,
   "metadata": {
    "collapsed": true,
    "extensions": {
     "jupyter_dashboards": {
      "version": 1,
      "views": {
       "grid_default": {
        "hidden": true
       },
       "report_default": {
        "hidden": true
       }
      }
     }
    }
   },
   "outputs": [],
   "source": []
  }
 ],
 "metadata": {
  "extensions": {
   "jupyter_dashboards": {
    "activeView": "grid_default",
    "version": 1,
    "views": {
     "grid_default": {
      "cellMargin": 10,
      "defaultCellHeight": 20,
      "maxColumns": 12,
      "name": "grid",
      "type": "grid"
     },
     "report_default": {
      "name": "report",
      "type": "report"
     }
    }
   }
  },
  "kernelspec": {
   "display_name": "Python 3",
   "language": "python",
   "name": "python3"
  },
  "language_info": {
   "codemirror_mode": {
    "name": "ipython",
    "version": 3
   },
   "file_extension": ".py",
   "mimetype": "text/x-python",
   "name": "python",
   "nbconvert_exporter": "python",
   "pygments_lexer": "ipython3",
   "version": "3.6.2"
  }
 },
 "nbformat": 4,
 "nbformat_minor": 2
}
